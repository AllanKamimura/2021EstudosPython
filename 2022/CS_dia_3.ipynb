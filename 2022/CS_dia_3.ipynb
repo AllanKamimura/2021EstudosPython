{
  "nbformat": 4,
  "nbformat_minor": 0,
  "metadata": {
    "colab": {
      "name": "CS_dia_3.ipynb",
      "provenance": [],
      "collapsed_sections": [
        "WcAa54mqI7VT",
        "YIEqkTlVI7VZ"
      ],
      "include_colab_link": true
    },
    "kernelspec": {
      "display_name": "Python 3",
      "language": "python",
      "name": "python3"
    },
    "language_info": {
      "codemirror_mode": {
        "name": "ipython",
        "version": 3
      },
      "file_extension": ".py",
      "mimetype": "text/x-python",
      "name": "python",
      "nbconvert_exporter": "python",
      "pygments_lexer": "ipython3",
      "version": "3.8.5"
    }
  },
  "cells": [
    {
      "cell_type": "markdown",
      "metadata": {
        "id": "view-in-github",
        "colab_type": "text"
      },
      "source": [
        "<a href=\"https://colab.research.google.com/github/ieee-saocarlos/2021EstudosPython/blob/main/2022/CS_dia_3.ipynb\" target=\"_parent\"><img src=\"https://colab.research.google.com/assets/colab-badge.svg\" alt=\"Open In Colab\"/></a>"
      ]
    },
    {
      "cell_type": "code",
      "source": [
        "!git clone https://github.com/ieee-saocarlos/2021EstudosPython.git\n",
        "%cd \"/content/2021EstudosPython/2022\""
      ],
      "metadata": {
        "id": "v951yFLcqmxc"
      },
      "execution_count": null,
      "outputs": []
    },
    {
      "cell_type": "markdown",
      "metadata": {
        "id": "_t-b8HQXI7UU"
      },
      "source": [
        "# <center> Introdução ao Pandas</center>\n",
        "___\n",
        "\n",
        "## Conteúdo\n",
        "3. [Pandas](#pandas)<br>"
      ]
    },
    {
      "cell_type": "markdown",
      "metadata": {
        "id": "0jW-2-KjI7Vk"
      },
      "source": [
        "<a name=\"pandas\"></a>\n",
        "## 3. Pandas\n",
        "\n",
        "### 3.1. O que é o Pandas?\n",
        "\n",
        "Pandas é uma biblioteca *open source*, que proporciona estruturas de dados e ferramentas de análise de dados de alta performance e fáceis de usar para Python. Vamos entender melhor o que alguns termos significam:\n",
        " - *open source*: assim como o NumPy, seu código original é disponibilizado livremente e pode ser distribuido e modificado. Isso significa que qualquer um pode contribuir para a evolução do Pandas!\n",
        " - alta performance: Pandas é escrito em Python, Cython e C. Isso permite que os cientistas de dados consigam o utilizar para lidar com conjuntos de dados muito grandes (daqueles que o Excel não conseguiria nem abrir) e fazer operações sobre esses dados com facilidade. Dessa forma, Pandas torna nosso trabalho melhor e mais fácil provendo ótima performânce.\n",
        " - estruturas de dados e análises de dados: o motivo pelo qual Pandas existe. Muitas vezes precisamos obter insights de dados crus como documentos de textos, tabelas e etc. Pandas é capaz de lidar com esses tipos de dados para que possamos analisá-los.\n",
        "\n",
        "Em resumo, **Pandas fornece estrutura de dados especializadas e ferramentas para manipulação de dados**. Sua ótima performance, facilidade de uso e comunidade dedicada são as principais razões de sua vasta adoção entre cientistas de dados. \n",
        "\n",
        "Agora vamos começar a utilizá-lo! Se você está utilizando o Anaconda ou o Google Colab, já deve ter ele instalado. Senão, é possível achar os passos de instalação [neste link](https://pandas.pydata.org/). <br>\n",
        "\n",
        "### 3.2. Básico de Pandas\n",
        "\n",
        "Vamos relembrar as etapas da construção de um modelo de dados para entender a importância do Pandas:\n",
        "\n",
        "1. Entendimento do problema / Definição do escopo\n",
        "2. Definição do objetivo e métricas de avaliação\n",
        "3. Determinação dos dados necessários\n",
        "4. Aquisição dos dados\n",
        "5. Tratamento e manipulação dos dados\n",
        "6. Análise Exploratória dos Dados (E.D.A.)\n",
        "7. Engenharia de Variáveis\n",
        "8. Construção e avaliação do modelo\n",
        "9. Interpretação dos resultados e apresentação dos dados\n",
        "10. Deploy\n",
        "11. Monitoramento e manutenção\n",
        "\n",
        "Então, mas em quais etapas o Pandas é mais utilizado? Nas etapas 4 a 7 e 9! Ou seja, das 11 etapas, o Pandas pode nos ajudar em 5 delas! Isso mostra o quão poderosa essa biblioteca é, e porque utilizamos ela diariamente.\n",
        "\n",
        "#### 3.2.1. Como importá-lo?\n",
        "\n",
        "O Pandas é geralmente importado sempre da mesma forma, como mostramos abaixo. Aproveitamos também para importar o NumPy, biblioteca que já apresentamos anteriormente."
      ]
    },
    {
      "cell_type": "code",
      "metadata": {
        "id": "D3lVTBtPI7Vk"
      },
      "source": [
        "import pandas as pd\n",
        "import numpy as np"
      ],
      "execution_count": null,
      "outputs": []
    },
    {
      "cell_type": "markdown",
      "metadata": {
        "id": "6qKrzYVYI7Vm"
      },
      "source": [
        "#### 3.2.2. Objetos do Pandas\n",
        "\n",
        "Existem 2 principais tipos de objetos no Pandas: as [*Series*](https://pandas.pydata.org/pandas-docs/stable/reference/api/pandas.Series.html#pandas.Series) e os *DataFrames*. As *Series* são sequências de uma dimensão  de elementos (pra ser mais específico *ndarray*), todos do mesmo tipo de dados, com rótulos/índices (*labels*). São o objeto primário do Pandas, tudo vai funcionar baseado nelas. Pra criar um objeto do tipo *Series*, podemos fazer o seguinte:"
      ]
    },
    {
      "cell_type": "code",
      "metadata": {
        "id": "tlrOSdwAI7Vn"
      },
      "source": [
        "s = pd.Series([1, 3, 5, np.nan, 6, 8])\n",
        "s"
      ],
      "execution_count": null,
      "outputs": []
    },
    {
      "cell_type": "markdown",
      "metadata": {
        "id": "XoMUtFTEI7Vp"
      },
      "source": [
        "Podemos ver acima que cada elemento da *Series* tem um rótulo relacionado. Esses rótulos podem ser tanto numéricos quanto de texto! Ao final do objeto temos a informação sobre o tipo de dados da *Series*: nesse caso, números *float64*. <br>\n",
        "O outro objeto principal do Pandas é o [*DataFrame*](https://pandas.pydata.org/pandas-docs/stable/reference/api/pandas.DataFrame.html#pandas.DataFrame), que é basicamente uma coleção de *Series* com rótulos em comum. O *DataFrame* é bem parecido com uma tabela de Excel, com seus índices e colunas. Tanto suas linhas quanto suas colunas tem rótulos, nos permitindo acessar qualquer célula pela sua coordenada. Há diversas formas de criar um *DataFrame*, vamos começar com o mais simples:"
      ]
    },
    {
      "cell_type": "code",
      "metadata": {
        "id": "vNO6qyIfI7Vq"
      },
      "source": [
        "dates = pd.date_range('20210101', periods=6) #estamos criando uma lista de datas entre 01/01/2021 e 06/01/2021. Note que estamos usando uma função do Pandas\n",
        "df = pd.DataFrame(\n",
        "    np.random.randn(6, 4), #apenas números aleatórios nas células\n",
        "    index=dates,  #especificando quais são os índices. Eles aceitam até datas como índice! Isso é muito bom para lidar com dados de séries temporais\n",
        "    columns=list('ABCD')) #especificando como quero que sejam os nomes das colunas passando uma lista de letras\n",
        "df"
      ],
      "execution_count": null,
      "outputs": []
    },
    {
      "cell_type": "markdown",
      "metadata": {
        "id": "KCFQaOxrI7Vs"
      },
      "source": [
        "Isso é um *DataFrame*! Uma coisa boa do Pandas com o Jupyter Notebook é que eles mostram o *DataFrame* de uma forma bastante amigável. Agora que sabemos sobre as duas principais estruturas de dados do Pandas, podemos aprender sobre os principais métodos e funcionalidades dessa biblioteca, e para isso vamos utilizar dados reais sobre uma das marcas mais conhecidas dos desenhos e videogames, a franquia Pokémon :)\n",
        "\n",
        "Observação: um *DataFrame* pode ser visto como um dicionário de listas.\n",
        "\n",
        "#### 3.2.3. Carregando o conjunto de dados\n",
        "\n",
        "Um dos tipos de dados mais comuns para se guardar arquivos são os CSVs (comma-separated values, em português, valores separados por vírgulas). O Pandas tem diversas funções para transformar os mais variados tipos de arquivos em *DataFrames*, como csv, Excel, json e etc. Nesse exemplo, vamos usar o [leitor de csv](https://pandas.pydata.org/pandas-docs/stable/reference/api/pandas.read_csv.html). Execute a célula abaixo para carregar os dados dos Pokémons.\n",
        "\n",
        "Caso você não conheça, [Pokémon](https://www.pokemon.com/us/) é uma franquia japonesa composta por jogos de videogame, desenhos, cartas colecionáveis, entre outros produtos. Nos jogos, principal produto da franquia, os humanos (conhecidos como treinadores Pokémon) capturam e treinam os monstrinhos (Pokémons) para realizar diversas aventuras e batalhas. Cada Pokémon pode ser de diferentes tipos (fogo, água, elétrico, pedra, etc) e apresentam diferentes níveis de habilidades (ataque, defesa, velocidade, etc). Além disso, alguns Pokémons são mais raros que outros (conhecidos como lendários).\n",
        "\n",
        "Caso você esteja utilizando o Google Colab, não se esqueça de conectar no seu Drive e alterar o caminho para a pasta que contém seus arquivos de dados."
      ]
    },
    {
      "cell_type": "code",
      "metadata": {
        "id": "cM-UjmFTI7Vs"
      },
      "source": [
        "pkmn = pd.read_csv(\n",
        "    './pokemon_data.csv', #o caminho para o arquivo que se quer ler\n",
        "    sep=',') #o caracter utilizado para separar os valores"
      ],
      "execution_count": null,
      "outputs": []
    },
    {
      "cell_type": "markdown",
      "metadata": {
        "id": "LQCKYMjYI7Vu"
      },
      "source": [
        "#### 3.2.4. Visualizações iniciais\n",
        "Ótimo! Acabamos de criar um *DataFrame* a partir de um arquivo csv. Mas como gostamos de verificar as coisas, seria interessante saber algumas coisas como: o que os dados contêm, como são as colunas, se tem valores nulos e etc. O Pandas tem 4 métodos principais para isso:"
      ]
    },
    {
      "cell_type": "code",
      "metadata": {
        "id": "0H8TyInJI7Vu"
      },
      "source": [
        "pkmn.info()"
      ],
      "execution_count": null,
      "outputs": []
    },
    {
      "cell_type": "markdown",
      "metadata": {
        "id": "jSWYqoxFI7Vw"
      },
      "source": [
        "A primeira coisa que é interessante de se fazer após ler um conjunto de dados em um *DataFrame* é utilizar o método *info()*. Ele mostra informações como:\n",
        " - a classe do objeto criado\n",
        " - o intervalo do índice e quantas linhas de dados se tem\n",
        " - as colunas, seus nomes e tipos de dados\n",
        " - quais os tipos de dados presentes no *DataFrame* e quantas colunas de cada\n",
        " - a quantidade de memória utilizada pelo computador para guardar esses dados\n",
        "\n",
        "Podemos ver que temos uma base sobre Pokémon, com 800 linhas com índices númericos de 0 a 799, 13 colunas de três tipos de dados diferentes, usando cerca de ~76kB de memória RAM. As informações presentes sobre os Pokémons são o número, o nome, o tipo (alguns tem subtipo, mas não todos, por isso os dados faltantes na coluna *Type 2*), estatísticas de ataque, defesa e velocidade, a geração (novos Pokémons são apresentados a cada alguns anos, e cada grupo é conhecido por uma geração) e a indicação se ele é lendário (como uma espécie mística). <br> Todas essas informações a gente conseguiu descobrir com apenas uma linha de código! Vamos então ver como o *DataFrame* realmente é. Temos dois métodos para isso:"
      ]
    },
    {
      "cell_type": "code",
      "metadata": {
        "id": "Ly2u3gbBI7Vw"
      },
      "source": [
        "pkmn.head()"
      ],
      "execution_count": null,
      "outputs": []
    },
    {
      "cell_type": "code",
      "metadata": {
        "id": "LFDpCiTlI7Vz"
      },
      "source": [
        "pkmn.tail()"
      ],
      "execution_count": null,
      "outputs": []
    },
    {
      "cell_type": "markdown",
      "metadata": {
        "id": "3jMRnRWEI7V2"
      },
      "source": [
        "Os métodos *.head()* e *.tail()* mostram, respectivamente, as primeiras e últimas *n* linhas do *DataFrame* (por padrão, *n*=5, mas você pode passar qualquer número como parâmetro) mostrando os índices e os nomes das colunas como numa tabela."
      ]
    },
    {
      "cell_type": "code",
      "metadata": {
        "id": "snLGHsfkI7V2"
      },
      "source": [
        "pkmn.describe()"
      ],
      "execution_count": null,
      "outputs": []
    },
    {
      "cell_type": "markdown",
      "metadata": {
        "id": "F6pyg9YmI7V4"
      },
      "source": [
        "Por fim, o método *.describe()* mostra um resumo estatístico de todas as colunas numéricas. É um método bom para ter uma ideia inicial sobre o que ocorre nas colunas de uma perspectiva estatística."
      ]
    },
    {
      "cell_type": "markdown",
      "metadata": {
        "id": "2QTzo2U5I7WB"
      },
      "source": [
        "### 3.3. Filtrando (*Filtering*) e fatiando (*slicing*) os dados\n",
        "\n",
        "*Filtering* e *slicing* são técnicas utilizadas para isolar partes específicas do *DataFrame*, sejam linhas, colunas ou células. Isso é muito útil pois diversas vezes queremos analisar alguns dados ao invés da base inteira. O Pandas tem ferramentas próprias para isso. <br>\n",
        "\n",
        "#### 3.3.1. *Slicing*\n",
        "\n",
        "No Pandas existem duas principais formas de fatiar os dados, isto é, selecionar apenas uma parte de acordo com as linhas e colunas do *DataFrame*: utilizando o nome das partes ou com os métodos *.loc()* e *.iloc()*. Vamos começar pelo primeiro. Para fazer isso, imagine que queremos apenas os nomes e o poder de ataque dos Pokémons e veja o exemplo:"
      ]
    },
    {
      "cell_type": "code",
      "metadata": {
        "id": "46uivHZcI7WC"
      },
      "source": [
        "pkmn[['Name','Attack']].head(7)"
      ],
      "execution_count": null,
      "outputs": []
    },
    {
      "cell_type": "markdown",
      "metadata": {
        "id": "a2t9ZGA9I7WF"
      },
      "source": [
        "Duas coisas importantes aqui:\n",
        " - Juntamos o *slicing* com o método *.head()* na mesma linha, para que fosse possível ver o resultado do fatiamento. Ao usar o Pandas é possível e comum fazer esse tipo de agrupamento de operações.\n",
        " - Foram utilizadas chaves duplas ```[[]]``` no fatiamento. Ao fazer isso, estou explicitando que quero um objeto do tipo *DataFrame*. Se eu quisesse objetos do tipo *Series* usaria chaves simples. Podemos ver um exemplo disso abaixo:"
      ]
    },
    {
      "cell_type": "code",
      "metadata": {
        "id": "4Ml4LWZJI7WF"
      },
      "source": [
        "print(type(pkmn[['Name']]))\n",
        "pkmn[['Name']]"
      ],
      "execution_count": null,
      "outputs": []
    },
    {
      "cell_type": "markdown",
      "metadata": {
        "id": "PqRmLi4HI7WL"
      },
      "source": [
        "Outra forma de se obter um objeto do tipo *Series* é passando a coluna como se fosse um atributo do *DataFrame*:"
      ]
    },
    {
      "cell_type": "code",
      "metadata": {
        "id": "_GYbEpLNI7WM"
      },
      "source": [
        "pkmn.Name"
      ],
      "execution_count": null,
      "outputs": []
    },
    {
      "cell_type": "markdown",
      "metadata": {
        "id": "vWKI_99GI7WN"
      },
      "source": [
        "O único problema desse formato é que colunas cujo nome contém espaços não funcionarão, como é o caso das colunas *Type 1*, *Type 2*, *Sp. Atk* e *Sp. Def*. Para resolver isso, vamos renomeá-las com o método *.rename()*."
      ]
    },
    {
      "cell_type": "code",
      "metadata": {
        "id": "Qnf5uL5wI7WO"
      },
      "source": [
        "pkmn.rename(\n",
        "    columns={'Type 1':'Type_1', 'Type 2':'Type_2', 'Sp. Atk':'Sp_Atk','Sp. Def':'Sp_Def'}, #passando o nome antigo e novo como um dicionário\n",
        "    inplace = True #algumas operações com Pandas criam uma cópia do DataFrame e não alteram o objeto em si, alteramos isso mudando o parâmetro inplace para verdadeiro\n",
        ")"
      ],
      "execution_count": null,
      "outputs": []
    },
    {
      "cell_type": "markdown",
      "metadata": {
        "id": "O45xA1XHJqqb"
      },
      "source": [
        "Agora que os nomes foram trocados, podemos obter um objeto *Series* do tipo do Pokémon como a seguir:"
      ]
    },
    {
      "cell_type": "code",
      "metadata": {
        "id": "O5p0Jw0mJqqc"
      },
      "source": [
        "pkmn.Type_1"
      ],
      "execution_count": null,
      "outputs": []
    },
    {
      "cell_type": "markdown",
      "metadata": {
        "id": "R281vnHrI7WV"
      },
      "source": [
        "Outra forma de selecionar partes dos dados é usando os métodos *.loc()* e *.iloc()*.<br>\n",
        "Para usar a localização númerica utilizamos o *iloc*. Como você pode imaginar, a linhas e colunas são ordenadas por números inteiros sequenciais, começando do 0, como nas listas. Dessa forma, se você sabe o número da linha e da coluna, você pode usar o *iloc*. Por exemplo, se quisermos a coluna HP, que é a 6ª, poderíamos fazer o seguinte:"
      ]
    },
    {
      "cell_type": "code",
      "metadata": {
        "id": "OU3QcQiZI7WV"
      },
      "source": [
        "pkmn.iloc[:,5].head()"
      ],
      "execution_count": null,
      "outputs": []
    },
    {
      "cell_type": "markdown",
      "metadata": {
        "id": "76glpCfwI7WX"
      },
      "source": [
        "A sintaxe do *iloc* é como [x,y], que significa que queremos a (x+1)ª linha e (y+1)ª coluna. Se utilizarmos ```:``` no lugar de x ou y significa que queremos a coluna ou linha completa, respectivamente. Vamos pegar o HP do Bulbasaur, o primeiro Pokémon do nosso *DataFrame*:"
      ]
    },
    {
      "cell_type": "code",
      "metadata": {
        "id": "Xsk3EutuI7WX"
      },
      "source": [
        "print(\"O HP do Bulbasaur é \"+str(pkmn.iloc[0,5]))"
      ],
      "execution_count": null,
      "outputs": []
    },
    {
      "cell_type": "markdown",
      "metadata": {
        "id": "IGy5jCcgI7Wa"
      },
      "source": [
        "O método *.loc()* usa o rótulo para acessar os valores. Dessa forma, ao invés de passarmos as coordenadas numéricas, passamos o nome da linha e da coluna, como a seguir:"
      ]
    },
    {
      "cell_type": "code",
      "metadata": {
        "id": "1HWgvBEiY7CZ"
      },
      "source": [
        "pkmn.iloc[0, :]"
      ],
      "execution_count": null,
      "outputs": []
    },
    {
      "cell_type": "code",
      "metadata": {
        "id": "JcQV_oi3I7Wb"
      },
      "source": [
        "pkmn.loc[0, :]"
      ],
      "execution_count": null,
      "outputs": []
    },
    {
      "cell_type": "markdown",
      "metadata": {
        "id": "nu5OJQgOI7Wc"
      },
      "source": [
        "No caso, os rótulos das linhas são iguais às suas coordenadas, por isso ficou parecido com o *iloc*. Vamos fazer o teste com as colunas também para ver a diferença. Abaixo pegaremos novamente o HP do Bulbasaur:"
      ]
    },
    {
      "cell_type": "code",
      "metadata": {
        "id": "4jMGO5ACI7Wc"
      },
      "source": [
        "print(\"O HP do Bulbasaur é \"+str(pkmn.loc[0,'HP']))"
      ],
      "execution_count": null,
      "outputs": []
    },
    {
      "cell_type": "markdown",
      "metadata": {
        "id": "wzRDpdWNI7We"
      },
      "source": [
        "#### 3.3.2. Filtros (*Filtering*)\n",
        "\n",
        "Uma vez sabendo isolar partes do *DataFrame* de acordo com a localização dos dados, podemos partir para isolar de acordo com condições, ou seja, filtrar os dados.\n",
        "Para conseguir fazer isso no Pandas, fazemos o seguinte: passamos uma expressão condicional e o Pandas retorna apenas as partes que teriam a condição como verdade. Para testar isso, vamos ver a defesa média de todos os Pokémons e depois ver se os tipos 'Rock' e 'Steel' têm defesas maiores:"
      ]
    },
    {
      "cell_type": "code",
      "metadata": {
        "id": "t9BIt7O7I7We"
      },
      "source": [
        "pkmn.Defense.mean() #note que operações comuns como média (mean), mediana (median) e soma (sum) são métodos do Pandas"
      ],
      "execution_count": null,
      "outputs": []
    },
    {
      "cell_type": "code",
      "metadata": {
        "id": "VMkHJfYucIi0"
      },
      "source": [
        "pkmn.loc[pkmn.Type_1=='Fairy'].Defense.mean()"
      ],
      "execution_count": null,
      "outputs": []
    },
    {
      "cell_type": "code",
      "metadata": {
        "id": "XmocOAs9cOtP"
      },
      "source": [
        "pkmn.loc[pkmn.Type_1=='Dragon'].Defense.mean()"
      ],
      "execution_count": null,
      "outputs": []
    },
    {
      "cell_type": "code",
      "metadata": {
        "id": "CvNMdewfJqqk"
      },
      "source": [
        "pkmn.loc[pkmn.Type_1=='Rock'].Defense.mean()"
      ],
      "execution_count": null,
      "outputs": []
    },
    {
      "cell_type": "code",
      "metadata": {
        "id": "Kf_EPtttJqqk"
      },
      "source": [
        "pkmn[pkmn.Type_1=='Steel'].Defense.mean()"
      ],
      "execution_count": null,
      "outputs": []
    },
    {
      "cell_type": "markdown",
      "metadata": {
        "id": "DQ3SSloPI7Wj"
      },
      "source": [
        "De fato, parece que os tipos selecionados tem média acima dos demais Pokémons. Para verificar isso, passamos a condição pkmn.Type_1=='Steel' entre chaves, o que retorna apenas as linhas de tal tipo. Com isso, selecionamos apenas a coluna de defesa e calculamos a média. <br>\n",
        "Vamos ver agora os Pokémons com defesa maior que 150, cujo tipo principal não é 'Rock' nem 'Steel':"
      ]
    },
    {
      "cell_type": "code",
      "metadata": {
        "id": "gZssFNJSI7Wj"
      },
      "source": [
        "pkmn[(pkmn.Defense > 150)&(pkmn.Type_1!='Rock')&(pkmn.Type_1!='Steel')]"
      ],
      "execution_count": null,
      "outputs": []
    },
    {
      "cell_type": "markdown",
      "metadata": {
        "id": "U0yWxF1MI7Wl"
      },
      "source": [
        "Podemos ver acima que é possível juntar condições com os operadores E (&) e OU (|), como vimos no inicio da aula.<br>\n",
        "Vamos dizer agora que você quer apenas alguns Pokémons em específico, por exemplo Venusaur, Charizard e Blastoise. Criar uma condição para cada e uní-las com o operador & pode ser difícil, ainda mais se for uma quantidade grande de opções. Podemos facilitar isso passando uma tupla ao método *.isin()*, como abaixo:"
      ]
    },
    {
      "cell_type": "code",
      "metadata": {
        "id": "1hZmFFpNI7Wl"
      },
      "source": [
        "aux = ('Venusaur', 'Charizard', 'Blastoise')\n",
        "pkmn[pkmn.Name.isin(aux)]"
      ],
      "execution_count": null,
      "outputs": []
    },
    {
      "cell_type": "markdown",
      "metadata": {
        "id": "DUUUMSN2muJC"
      },
      "source": [
        ""
      ]
    },
    {
      "cell_type": "markdown",
      "metadata": {
        "id": "9xqpu5WPI7Wm"
      },
      "source": [
        "Finalmente, podemos criar novos *DataFrames* a partir de um já existente selecionando apenas algumas linhas ou colunas dele:"
      ]
    },
    {
      "cell_type": "code",
      "metadata": {
        "id": "gTkyAPJ3I7Wn"
      },
      "source": [
        "offensive_stats = pkmn[['#','Name','Attack','Sp_Atk','Speed']] #selecionando apenas estatísticas ofensivas\n",
        "defensive_stats = pkmn[['#','Name', 'HP','Defense','Sp_Def']] #selecionando apenas estatísticas defensivas"
      ],
      "execution_count": null,
      "outputs": []
    },
    {
      "cell_type": "code",
      "metadata": {
        "id": "Eya67aYTI7Wo"
      },
      "source": [
        "offensive_stats.head()"
      ],
      "execution_count": null,
      "outputs": []
    },
    {
      "cell_type": "code",
      "metadata": {
        "id": "S9VDvgW8I7Wp"
      },
      "source": [
        "defensive_stats.head()"
      ],
      "execution_count": null,
      "outputs": []
    },
    {
      "cell_type": "code",
      "metadata": {
        "id": "Bnidkhc7I7Wq"
      },
      "source": [
        "fire_pkmn = pkmn[(pkmn.Type_1=='Fire')|(pkmn.Type_2=='Fire')] #filtrando apenas linhas com algumas condições\n",
        "fire_pkmn.head()"
      ],
      "execution_count": null,
      "outputs": []
    },
    {
      "cell_type": "code",
      "metadata": {
        "id": "X5mYCPdtI7Ws"
      },
      "source": [
        "water_pkmn = pkmn[(pkmn.Type_1=='Water')|(pkmn.Type_2=='Water')] #filtrando apenas linhas com algumas condições\n",
        "water_pkmn.head()"
      ],
      "execution_count": null,
      "outputs": []
    },
    {
      "cell_type": "markdown",
      "metadata": {
        "id": "MOgvn0beI7W7"
      },
      "source": [
        "### 3.4. Juntando DataFrames\n",
        "\n",
        "É muito comum ter a necessidade de juntar *DataFrames* diferentes. Se você já utilizou SQL ou qualquer outro banco de dados relacional, deve conhecer isso como *join*. O Pandas também tem a mesma função utilizando o método *.merge()*. Antes do exemplo, vamos aprender/relembrar os tipos de *joins* mais comuns:<br>\n",
        "![Joining Methods](https://i.imgur.com/HaSBT91.jpg) <br>\n",
        "Agora, vamos testar os *merge* nos *DataFrames* filtrados que criamos anteriormente:"
      ]
    },
    {
      "cell_type": "code",
      "metadata": {
        "id": "WFNPyF1tI7W7"
      },
      "source": [
        "all_stats = pd.merge(\n",
        "    offensive_stats, #o DataDrame da esquerda\n",
        "    defensive_stats, #o DataDrame da direita\n",
        "    how='inner', #o tipo de join que queremos fazer\n",
        "    on=['#','Name']) #baseado em quais valores em comum\n",
        "all_stats.info()"
      ],
      "execution_count": null,
      "outputs": []
    },
    {
      "cell_type": "markdown",
      "metadata": {
        "id": "UkN4R245I7W9"
      },
      "source": [
        "Ótimo! Conseguimos fazer o *merge* (termo mais utilizado no Pandas) de dois *DataDrames*. Lembre-se que *inner*, *left*, *right* e *outer* terão resultados diferentes:"
      ]
    },
    {
      "cell_type": "code",
      "metadata": {
        "id": "Ld4uXURbI7W9"
      },
      "source": [
        "fire_pkmn.info()"
      ],
      "execution_count": null,
      "outputs": []
    },
    {
      "cell_type": "code",
      "metadata": {
        "id": "Muh-f8YSI7XA"
      },
      "source": [
        "water_pkmn.info()"
      ],
      "execution_count": null,
      "outputs": []
    },
    {
      "cell_type": "code",
      "metadata": {
        "id": "n6TsQX-9I7XC"
      },
      "source": [
        "left_fire_water = pd.merge(fire_pkmn, water_pkmn, how='left', on=['#','Name'])\n",
        "left_fire_water.info()"
      ],
      "execution_count": null,
      "outputs": []
    },
    {
      "cell_type": "code",
      "metadata": {
        "id": "8s6GHNt9I7XD"
      },
      "source": [
        "right_fire_water = pd.merge(fire_pkmn, water_pkmn, how='right', on=['#','Name'])\n",
        "right_fire_water.info()"
      ],
      "execution_count": null,
      "outputs": []
    },
    {
      "cell_type": "code",
      "metadata": {
        "id": "ut5OGXwLI7XF"
      },
      "source": [
        "inner_fire_water = pd.merge(fire_pkmn, water_pkmn, how='inner', on=['#','Name'])\n",
        "inner_fire_water.info()"
      ],
      "execution_count": null,
      "outputs": []
    },
    {
      "cell_type": "markdown",
      "metadata": {
        "id": "E0MjzO2AI7XH"
      },
      "source": [
        "Como podemos ver, os resultados são de fato bem diferentes.<br>\n",
        "No *left*, mantemos os dados do dataframe à esquerda, e trazemos os dados do dataframe à direita no qual encontrou-se a chave (neste exemplo, o número e nome do Pokémon). Por outro lado, no *right* ocorre o contrário, mantemos os dados do dataframe à direita e, quando há correspondência da chave, trazemos os dados do dataframe à esquerda.\n",
        "Por fim, o *inner* mantém apenas os dados dos Pokémons encontrados nos dois dataframes, dessa forma, a posição do dataframe não faz diferença.\n",
        "\n",
        "Podemos também querer apenas concatenar dois *DataDrames*, isto é, juntá-los colocando um abaixo ou ao lado do outro. Para isso, utilizamos o método *.concat()*:"
      ]
    },
    {
      "cell_type": "code",
      "metadata": {
        "id": "aju5mU6hI7XH"
      },
      "source": [
        "fire_and_water = pd.concat([fire_pkmn, water_pkmn], ignore_index=True)\n",
        "fire_and_water.info()"
      ],
      "execution_count": null,
      "outputs": []
    },
    {
      "cell_type": "markdown",
      "metadata": {
        "id": "qIZ2uxCfI7XI"
      },
      "source": [
        "Acima fizemos a concatenação vertical. Vamos fazer a horizontal abaixo:"
      ]
    },
    {
      "cell_type": "code",
      "metadata": {
        "id": "i8rmU8ZBI7XJ",
        "scrolled": true
      },
      "source": [
        "atk_and_defense = pd.concat([offensive_stats, defensive_stats], axis=1)\n",
        "atk_and_defense.head()"
      ],
      "execution_count": null,
      "outputs": []
    },
    {
      "cell_type": "markdown",
      "metadata": {
        "id": "fWrZbAI-vNC-"
      },
      "source": [
        "Você deve estar se perguntando: mas então qual a diferença entre utilizar o *merge* e o *concat* com axis=1 (concatenação horizontal)? Observe a imagem abaixo.\n",
        "![concat](https://i.imgur.com/YlmiwsR.png) <br>\n",
        "\n",
        "Note que o *concat* recebe os dataframes e apenas os empilha (verticalmente ou horizontalmente). Observe agora o funcionamento do *merge* na imagem abaixo.\n",
        "![merge](https://i.imgur.com/yGum2id.png) <br>\n",
        "\n",
        "Com o *merge*, podemos combinar os dataframes de acordo com os valores de suas colunas. Passamos a coluna a ser utilizada como chave, e os valores serão apenas combinados caso haja correspondência nos dois dataframes."
      ]
    },
    {
      "cell_type": "markdown",
      "metadata": {
        "id": "QBYGj098Jqqt"
      },
      "source": [
        "### 3.5. Alterando o dataframe\n",
        "\n",
        "Até o momento apenas utilizamos os dados da forma que nos foram fornecidos, mas e se precisássemos criar alguma coluna que fosse a combinação das demais? Por exemplo, caso eu deseje criar uma coluna que corresponde à soma do ataque e velocidade dos Pokémons? Observe abaixo:"
      ]
    },
    {
      "cell_type": "code",
      "metadata": {
        "id": "7Vol_9nSJqqt"
      },
      "source": [
        "#Criando a coluna desejada\n",
        "pkmn['Sum_Attack_Speed'] = pkmn['Attack'] + pkmn['Speed']\n",
        "pkmn.head()"
      ],
      "execution_count": null,
      "outputs": []
    },
    {
      "cell_type": "markdown",
      "metadata": {
        "id": "kKj3aVaJJqqt"
      },
      "source": [
        "Observe como foi fácil! Apenas utilizamos o operador de soma com as duas colunas necessárias. Você pode fazer isso com outras operações também, basta utilizar ```-```, ```/``` ou ```*```. Além disso, você pode combinar quantas colunas quiser!\n",
        "\n",
        "Mas e se precisarmos alterar apenas algumas linhas do nosso DataFrame?\n",
        "\n",
        "Por exemplo, suponha que você percebeu que seus dados estão errados, e todos os Pokémons com velocidade acima de 100 deveriam estar marcados como Type_1 = 'Fire', podemos seguir o procedimento abaixo:"
      ]
    },
    {
      "cell_type": "code",
      "metadata": {
        "id": "qQBpzewGJqqt"
      },
      "source": [
        "#Observe os valores unicos da coluna Type_1 para os Pokémons com mais de 100 de velocidade\n",
        "pkmn.loc[pkmn['Speed']>100, 'Type_1'].unique()"
      ],
      "execution_count": null,
      "outputs": []
    },
    {
      "cell_type": "code",
      "metadata": {
        "id": "h72hBW8dJqqu",
        "scrolled": true
      },
      "source": [
        "#Vamos alterar tudo para Fire\n",
        "pkmn.loc[pkmn['Speed']>100, 'Type_1'] = 'Fire'"
      ],
      "execution_count": null,
      "outputs": []
    },
    {
      "cell_type": "code",
      "metadata": {
        "id": "UzzN9AvnJqqu"
      },
      "source": [
        "#Observe como os valores mudaram\n",
        "pkmn.loc[pkmn['Speed']>100, 'Type_1'].unique()"
      ],
      "execution_count": null,
      "outputs": []
    },
    {
      "cell_type": "code",
      "metadata": {
        "id": "rEyRtkO7mGcu"
      },
      "source": [
        "#Vamos alterar tudo para Fire\n",
        "pkmn.loc[pkmn['Speed']>100, 'Type_1'] = 'Fire'"
      ],
      "execution_count": null,
      "outputs": []
    },
    {
      "cell_type": "markdown",
      "metadata": {
        "id": "stj3Y7WGJqqu"
      },
      "source": [
        "Antes de continuar, vamos ler novamente os dados de Pokémon, sem essa última alteração. Execute a célula abaixo."
      ]
    },
    {
      "cell_type": "code",
      "metadata": {
        "id": "tv2HUSpHJqqu"
      },
      "source": [
        "pkmn = pd.read_csv(\n",
        "    'pokemon_data.csv', #o caminho para o arquivo que se quer ler\n",
        "    sep=',') #o caracter utilizado para separar os valores\n",
        "\n",
        "pkmn.rename(\n",
        "    columns={'Type 1':'Type_1', 'Type 2':'Type_2', 'Sp. Atk':'Sp_Atk','Sp. Def':'Sp_Def'}, #passando o nome antigo e novo como um dicionário\n",
        "    inplace = True #algumas operações com Pandas criam uma cópia do DataFrame e não alteram o objeto em si, alteramos isso mudando o parâmetro inplace para verdadeiro\n",
        ")"
      ],
      "execution_count": null,
      "outputs": []
    },
    {
      "cell_type": "markdown",
      "metadata": {
        "id": "c8AoBG2uI7XM"
      },
      "source": [
        "### 3.6. Operações em grupo\n",
        "\n",
        "Com Pandas nós podemos aplicar operações em grupos usando o método *.groupby()*. Ele é muito útil por ser uma forma bem simples de extrair informação de dados agregados. Para utilizá-lo, passamos as colunas nas quais queremos agrupar os dados e a operação que queremos fazer. Para exemplificar, vamos ver quantos Pokémons lendários cada geração tem:"
      ]
    },
    {
      "cell_type": "code",
      "metadata": {
        "id": "sa35RiniJqqv"
      },
      "source": [
        "pkmn.groupby('Generation').Legendary.sum() #fazendo uma soma pois a coluna Legendary é boolean"
      ],
      "execution_count": null,
      "outputs": []
    },
    {
      "cell_type": "markdown",
      "metadata": {
        "id": "f6-GqOx3I7XO"
      },
      "source": [
        "Podemos obter um relatório da média de diversas colunas para cada tipo de Pokémon:"
      ]
    },
    {
      "cell_type": "code",
      "metadata": {
        "id": "kMKuWc3RJqqv"
      },
      "source": [
        "pkmn.groupby('Type_1')[['HP','Attack','Defense','Sp_Atk','Sp_Def','Speed']].mean().sort_values(by = \"HP\", ascending = False)"
      ],
      "execution_count": null,
      "outputs": []
    },
    {
      "cell_type": "markdown",
      "metadata": {
        "id": "oiyLWKjGI7XP"
      },
      "source": [
        "Isso é realmente muito importante e extremamente utilizado com pandas pois conseguimos fazer análises dos grupos com apenas uma linha de código. Podemos perceber, por exemplo, que Pokémons do tipo *Flying* são especialistas em velocidade enquanto *Dragon* e *Fighting* são especialistas em ataque."
      ]
    },
    {
      "cell_type": "markdown",
      "metadata": {
        "id": "UvdzWKOBI7XQ"
      },
      "source": [
        "### 3.7. Aplicando funções no Pandas\n",
        "\n",
        "Com Pandas, nós temos um grande nível de controle de nossos dados, e somos capazes de transformá-los conforme precisarmos. Nós podemos, até mesmo, executar funções em DataFrames e manipulá-los como quisermos. Vamos revisitar o método head():"
      ]
    },
    {
      "cell_type": "code",
      "metadata": {
        "id": "Gy91k6dQI7XQ"
      },
      "source": [
        "pkmn.head()"
      ],
      "execution_count": null,
      "outputs": []
    },
    {
      "cell_type": "markdown",
      "metadata": {
        "id": "LBZGxgGTI7XR"
      },
      "source": [
        "Existem algumas mega evoluções misturadas no dataset (apenas alguns Pokémons são capazes de evoluir temporariamente para sua forma Mega, uma forma mais poderosa). Não seria legal se nós tivéssemos alguma flag que nos diria se um pokémon é mega ou não? E, por um acaso, será que os pokémons mega são mais poderosos?\n",
        "\n",
        "Você deve ter percebido que evoluções mega têm um padrão em nosso DataFrame, algo como 'PokemonMega Pokemon'. Se nós tivermos esse padrão, podemos construir uma função que retorna True se este padrão for detectado:"
      ]
    },
    {
      "cell_type": "code",
      "metadata": {
        "id": "D79vgBfSI7XS"
      },
      "source": [
        "def is_it_mega(pokemon_name):\n",
        "    \"\"\"\n",
        "    Recebe um nome de pokemon e diz se é uma mega evolução ou não\n",
        "    I: string pokemon_name\n",
        "    O: boolean para Mega evos\n",
        "    \"\"\"\n",
        "    if 'Mega ' in pokemon_name: #é importante usar 'Mega ' e não 'mega', pois há um pokemon chamado called Yanmega e outro chamado Meganium que não são uma mega evolução\n",
        "        return True\n",
        "    else:\n",
        "        return False"
      ],
      "execution_count": null,
      "outputs": []
    },
    {
      "cell_type": "markdown",
      "metadata": {
        "id": "y3uv8w5mI7XT"
      },
      "source": [
        "Vamos ver se funciona:"
      ]
    },
    {
      "cell_type": "code",
      "metadata": {
        "id": "EKkms_kSJqqy"
      },
      "source": [
        "is_it_mega('VenusaurMega Venusaur')"
      ],
      "execution_count": null,
      "outputs": []
    },
    {
      "cell_type": "code",
      "metadata": {
        "id": "pUF2cV6jJqqz"
      },
      "source": [
        "is_it_mega('Squirtle')"
      ],
      "execution_count": null,
      "outputs": []
    },
    {
      "cell_type": "markdown",
      "metadata": {
        "id": "4NjQh6saI7XW"
      },
      "source": [
        "Excelente! Seria ótimo se conseguíssemos aplicar essa função em todo nosso DataFrame. Para fazer isso, usaremos o método .apply(). Também criaremos uma coluna que é uma flag se o pokémon é mega:"
      ]
    },
    {
      "cell_type": "code",
      "metadata": {
        "id": "SM50UKunI7XW"
      },
      "source": [
        "pkmn['Mega'] = pkmn.apply(\n",
        "    lambda row: is_it_mega(row['Name']), #chamando uma função lambda que acabamos de construir\n",
        "    axis=1 #qual direção queremos executar a função. 0 para horizontal, 1 para vertical\n",
        ")"
      ],
      "execution_count": null,
      "outputs": []
    },
    {
      "cell_type": "code",
      "metadata": {
        "id": "HoAA7rmyI7XX"
      },
      "source": [
        "pkmn.head()"
      ],
      "execution_count": null,
      "outputs": []
    },
    {
      "cell_type": "markdown",
      "metadata": {
        "id": "tOjBnx2SI7XZ"
      },
      "source": [
        "Agora, vamos verificar quão poderosos são os pokémons mega:"
      ]
    },
    {
      "cell_type": "code",
      "metadata": {
        "id": "1038lMSmI7XZ",
        "scrolled": true
      },
      "source": [
        "pkmn.groupby('Mega').Total.mean()"
      ],
      "execution_count": null,
      "outputs": []
    },
    {
      "cell_type": "markdown",
      "metadata": {
        "id": "Lodu0N3TI7Xb"
      },
      "source": [
        "Uau! Eles têm quase 200 stat points a mais que pokémons normais! Evoluções mega são, sim, muito poderosos! Uma boa prática é sempre tentar manter nosso DataFrame organizado. A forma como os pokémons mega estão nomeados não é muito ótima, e nós já temos uma coluna com a flag para pokémons Mega, então, vamos atacar isso! A estrutura do nome de um pokémon mega é da seguinte forma: 'NomeMega Nome'. Portanto, se nós pegarmos o qeu vem após o caractere ' ', teremos o nome original do pokémon!"
      ]
    },
    {
      "cell_type": "code",
      "metadata": {
        "id": "RwTmZ3gQqz8N"
      },
      "source": [
        "pkmn[(pkmn[\"Mega\"] == True) & pkmn[\"Legendary\"] == True]"
      ],
      "execution_count": null,
      "outputs": []
    },
    {
      "cell_type": "code",
      "metadata": {
        "id": "QBR2eX5hJqq1"
      },
      "source": [
        "pkmn.Name.nunique() #conta elementos únicos de uma determinada coluna"
      ],
      "execution_count": null,
      "outputs": []
    },
    {
      "cell_type": "code",
      "metadata": {
        "id": "GHD6us95Jqq1"
      },
      "source": [
        "def get_original_name(s):\n",
        "    \"\"\"\n",
        "    Recebe um nome de pokemon e retorna seu nome original\n",
        "    I: s string\n",
        "    O: string\n",
        "    \"\"\"\n",
        "    return s.split(' ')\n",
        "\n",
        "# pkmn['Name'] = pkmn.Name.apply(lambda s: get_original_name(s)) #sobreescrevendo a coluna Name\n",
        "# pkmn.Name.nunique()"
      ],
      "execution_count": null,
      "outputs": []
    },
    {
      "cell_type": "code",
      "metadata": {
        "id": "1nclcpRGJqq1"
      },
      "source": [
        "pkmn.tail()"
      ],
      "execution_count": null,
      "outputs": []
    }
  ]
}
