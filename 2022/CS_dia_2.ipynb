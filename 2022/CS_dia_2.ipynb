{
  "nbformat": 4,
  "nbformat_minor": 0,
  "metadata": {
    "colab": {
      "name": "CS dia 2.ipynb",
      "provenance": [],
      "collapsed_sections": [
        "gh-6FNlAKI4m"
      ],
      "toc_visible": true,
      "include_colab_link": true
    },
    "kernelspec": {
      "display_name": "Python 3",
      "language": "python",
      "name": "python3"
    },
    "language_info": {
      "codemirror_mode": {
        "name": "ipython",
        "version": 3
      },
      "file_extension": ".py",
      "mimetype": "text/x-python",
      "name": "python",
      "nbconvert_exporter": "python",
      "pygments_lexer": "ipython3",
      "version": "3.8.5"
    }
  },
  "cells": [
    {
      "cell_type": "markdown",
      "metadata": {
        "id": "view-in-github",
        "colab_type": "text"
      },
      "source": [
        "<a href=\"https://colab.research.google.com/github/ieee-saocarlos/2021EstudosPython/blob/main/2022/CS_dia_2.ipynb\" target=\"_parent\"><img src=\"https://colab.research.google.com/assets/colab-badge.svg\" alt=\"Open In Colab\"/></a>"
      ]
    },
    {
      "cell_type": "markdown",
      "metadata": {
        "id": "Io0ilY1ZcBdh"
      },
      "source": [
        "# <center> Introdução Python - Parte 2 </center>\n",
        "___\n",
        "\n",
        "## Conteúdo\n",
        "1. [Funções](#funpac)\n",
        "2. [Numpy](#numpy)\n",
        "3. [Orientação a Objetos](#orientacao_objetos)<br>"
      ]
    },
    {
      "cell_type": "markdown",
      "metadata": {
        "id": "RPoN9J8ey1BK"
      },
      "source": [
        "<a name=\"funpac\"></a>\n",
        "## 1. Funções\n",
        "Olá! No final da parte anterior mostramos um exemplo de uma função feita para selecionar os valores únicos de uma lista, você deve ter ficado ansioso para criar suas próprias funções, não? Ótimo! Nessa aula vamos te explicar o que é uma função, como você pode definí-las e como ela facilita nossas vidas!\n",
        "\n",
        "Boa aula!\n",
        "\n",
        "### 1.1. O que é uma função?\n",
        "Uma função é um pedaço reutilizável de código com o objetivo de resolver uma tarefa específica. Podemos pensar em uma função como se fosse uma caixinha preta que recebe um input, faz alguma coisa com isso e retorna um output.\n",
        "\n",
        "No começo dessa aula, foi dito a você que \"print\" é uma função. Voĉe também já utilizou várias outras funções até aqui. Vamos recapitular algumas dessas funções e explicitar seus inputs e outputs:\n",
        "\n",
        "- ```print```: recebe uma lista de strings, escreve todas elas como output e retorna ```None```\n",
        "- ```type```: recebe um objeto e retorna o tipo deste objeto\n",
        "- ```str```: recebe um objeto e retorna a versão string dele\n",
        "\n",
        "Através desses exemplos, podemos observar que os diferentes inputs e outputs das funções (chamados de *arguments* e *returns*) possuem diferentes números e tipos.\n",
        "\n",
        "No código a seguir, introduzimos novas funções: ```max```, ```round``` e ```help```. Tente entender o uso dessas funções olhando o código e os outputs dados por elas.\n"
      ]
    },
    {
      "cell_type": "code",
      "metadata": {
        "id": "Q-q8LX3ky1BK"
      },
      "source": [
        "ages = [22, 29, 26, 32, 26]\n",
        "oldest = max(ages)\n",
        "print(\"A idade máxima é:\", oldest)\n",
        "\n",
        "decimal_number = 1.57365167\n",
        "print(\"Primeiro arredondamento:\", round(decimal_number, 3))\n",
        "print(\"Segundo arredondamento:\", round(decimal_number))\n",
        "\n",
        "help(max)\n",
        "help(round)"
      ],
      "execution_count": null,
      "outputs": []
    },
    {
      "cell_type": "markdown",
      "metadata": {
        "id": "ohrUTM7iy1BK"
      },
      "source": [
        "Aposto que você conseguiu entender o funcionamento dessas funções!\n",
        "\n",
        "- ```max``` retorna o maior item de um iterável (por agora, entenda isso como uma lista).\n",
        "- ```round``` retorna o número passado arredondado por um certo número de casas decimais. Você percebeu que omitimos o número de casas decimais no segundo caso? Se você olhar o ```help``` para a função ```round```, você perceberá que o valor *default* do argumento ndigits é ```None``` ('ndigits=None'). Isso significa que se você não passar explicitamente um valor para este argumento, a função irá performar como se você não quisesse arredondar para nenhuma casa decimal.\n",
        "- ```Help``` te dá informação de uma dada função.\n",
        "\n",
        "#### Exercício 1.1\n",
        "Use a célula abaixo para ver o ```help``` das funções 'pow' e 'open'. Tente entender o que faz cada função, quais são seus argumentos e quais são os valores default para esses argumentos. Não é necessário escrever nenhuma reposta para este exercício."
      ]
    },
    {
      "cell_type": "code",
      "metadata": {
        "id": "pWsiOzhvy1BK"
      },
      "source": [
        ""
      ],
      "execution_count": null,
      "outputs": []
    },
    {
      "cell_type": "markdown",
      "metadata": {
        "id": "EgldMuFoy1BK"
      },
      "source": [
        "### 1.2. Métodos\n",
        "\n",
        "Métodos são funções que pertencem a um objeto Python. Você deve estar se perguntando 'O que é um objeto Python?'. Por agora, tudo que você precisa saber é que no Python, quase tudo é um objeto. Cada objeto pode ter um nome, um tipo, um valor, algumas proprierdades e alguns métodos. Nós não vamos nos desbravar neste tópico, mas você pode aprender mais, caso queira explorar o assunto, nesses dois vídeos ([parte 1](https://www.youtube.com/watch?v=wfcWRAxRVBA) e [parte 2](https://www.youtube.com/watch?v=WOwi0h_-dfA)).\n",
        "\n",
        "Agora, iremos focar na utilização dos métodos. Você já viu alguns métodos na última seção, como *capitalize* e *split* para strings e *append* para listas. Veja estes outros métodos para listas na célula a seguir."
      ]
    },
    {
      "cell_type": "code",
      "metadata": {
        "id": "CfUoJ_Lny1BK"
      },
      "source": [
        "print(\"Index:\", ages.index(29)) # método 'index' retorna o índice da lista referente ao objeto passado\n",
        "print(\"Quantidade:\", ages.count(26)) # método 'count' retorna a quantidade de vezes que o objeto passado aparece na lista"
      ],
      "execution_count": null,
      "outputs": []
    },
    {
      "cell_type": "markdown",
      "metadata": {
        "id": "pxkrX-Pay1BK"
      },
      "source": [
        "Como podemos ver, métodos são chamados com um ponto seguido pelo nome do método e os argumentos são passados dentro de parenteses, após o objeto.\n",
        "\n",
        "Diferentes tipos de objetos estão associados com diferentés métodos. Vamos ver alguns métodos para strings e ver o que acontece quando tentamos utilizá-los em listas."
      ]
    },
    {
      "cell_type": "code",
      "metadata": {
        "id": "tpQnNL7py1BL"
      },
      "source": [
        "country = \"brazil\"\n",
        "\n",
        "print(\"Capitalize:\", country.capitalize())\n",
        "print(\"Replace:\", country.replace(\"z\", \"s\"))\n",
        "print(\"Index:\", country.index(\"i\"))\n",
        "\n",
        "print(ages.capitalize())"
      ],
      "execution_count": null,
      "outputs": []
    },
    {
      "cell_type": "markdown",
      "metadata": {
        "id": "RwZCxUwXy1BL"
      },
      "source": [
        "Como visto anteriormente, *capitalize* retorna uma cópia da string que está sendo chamada, onde a primeira letra da string é maiúscula e todas as outras são minúsculas.\n",
        "*Replace* retorna uma cópia da string que está sendo chamada com todas as ocorrências da primeira string passada substituídas pela segunda string passada.\n",
        "*Index* funciona da mesma forma como vimos para listas.\n",
        "\n",
        "Mas tome cuidado! Isso não significa que todos os métodos possam ser aplicados para todos objetos. Veja como obtemos um erro quando tentamos utilizar *capitalize* no objeto ```ages```.\n",
        "\n",
        "Tome cuidado \\[2\\]! Alguns métodos podem mudar o objeto chamado. Veja os métodos *append* e *reverse* usados na lista ```ages``` abaixo."
      ]
    },
    {
      "cell_type": "code",
      "metadata": {
        "id": "rFdLSB5Vy1BL"
      },
      "source": [
        "print(\"ages\", ages)\n",
        "\n",
        "ages.append(23)\n",
        "print(\"Appended ages\", ages)\n",
        "\n",
        "ages.reverse()\n",
        "print(\"Reversed ages\", ages)\n",
        "\n",
        "help(list.append)"
      ],
      "execution_count": null,
      "outputs": []
    },
    {
      "cell_type": "markdown",
      "metadata": {
        "id": "Ks39Dkvly1BL"
      },
      "source": [
        "Como visto, *append* adiciona outro elemento ao final da lista, enquanto *reverse* inverte a ordem de seus elementos. Você também pode usar o comando *help* para um método, para isso, você apenas precisa incluir o tipo e o ponto antes do metódo, como por exemplo, help(type.method).\n",
        "\n",
        "#### Exercício 1.2\n",
        "Qual é o resultado do código seguinte? Tente adivinhá-lo. Utilize a célula a seguir para te ajudar, não para obter a resposta.\n",
        "\n",
        "ex_list = \\[9, 2, 5, 0, 2\\] <br>\n",
        "ex_list.sort() <br>\n",
        "ex_list.append(7) <br>\n",
        "ex_list.reverse() <br>\n",
        "ex_list.remove(2) <br>\n",
        "print(ex_list) <br>"
      ]
    },
    {
      "cell_type": "code",
      "metadata": {
        "id": "tp7pkeIzy1BL"
      },
      "source": [
        "# Utilize esta célula para testar o comando help dos métodos acima\n",
        "help(list.sort)\n",
        "help(list.append)\n",
        "help(list.reverse)\n",
        "help(list.remove)\n",
        "help(print)"
      ],
      "execution_count": null,
      "outputs": []
    },
    {
      "cell_type": "code",
      "metadata": {
        "id": "JUJfTUVbcBeB"
      },
      "source": [
        "# Sua resposta aqui\n"
      ],
      "execution_count": null,
      "outputs": []
    },
    {
      "cell_type": "markdown",
      "metadata": {
        "id": "m2ubWRCpvWxL"
      },
      "source": [
        "Existem alguns métodos particularmente úteis quando tratamos de Listas e Dicionários. Por exemplo, os métodos ```zip()``` e ```dict()```, com os quais podemos agregar dois iteráveis de mesmo tamanho e também transformá-los em dicionários."
      ]
    },
    {
      "cell_type": "code",
      "metadata": {
        "id": "pEL7tU7ywFE3"
      },
      "source": [
        "name_list=['João','Maria','Thiago','Barbara']\n",
        "age_list=[30,25,28,20]\n",
        "\n",
        "for name,age in zip(name_list,age_list):\n",
        "  print(f'{name} tem {age} anos de idade')"
      ],
      "execution_count": null,
      "outputs": []
    },
    {
      "cell_type": "markdown",
      "metadata": {
        "id": "UCaVB4Iowm0W"
      },
      "source": [
        "#### Exercício 1.3\n",
        "Observe que o método zip agregou as duas listas e iterou as duas simultaneamente. Agora, utilize a função ```dict()``` para criar um dicionário a partir das duas listas e use o método ```.values()``` para calcular a soma das idades. Ao final, printe a soma das idades."
      ]
    },
    {
      "cell_type": "code",
      "metadata": {
        "deletable": false,
        "exid": "1.3",
        "id": "fey7_nDGxT6f"
      },
      "source": [
        "# Sua resposta aqui\n"
      ],
      "execution_count": null,
      "outputs": []
    },
    {
      "cell_type": "markdown",
      "metadata": {
        "id": "JqRe9Xu7y1BM"
      },
      "source": [
        "### 1.3. Pacotes (Packages)\n",
        "\n",
        "Um package é um diretório de scripts Python, também chamados de modules, com um objetivo em comum. Isso significa que cada script é um módulo que define funções, métodos e tipos. E esse módulos estão organizados em packages.\n",
        "\n",
        "Quando você inicializa o Python, apenas o package built-in é carregado. Para usar qualquer função, método ou objeto definido em outro módulo, você deve, primeiramente, importá-lo.\n",
        "\n",
        "Vamos tentar fazer isso com NumPy, um pacote que lida eficientemente com arrays, que você certamente utilizará bastante em sua vida com o Python."
      ]
    },
    {
      "cell_type": "code",
      "metadata": {
        "id": "TKvmrfYpy1BM"
      },
      "source": [
        "# Primeiramente, o que você acha que aconteceria se tentássemos utilizar algumas coisa de um pacote que ainda não foi carregado?\n",
        "# Nós podemos testar isso com a função array, do módulo numpy, que retorna um array para uma lista dada\n",
        "array([1, 2, 3])"
      ],
      "execution_count": null,
      "outputs": []
    },
    {
      "cell_type": "markdown",
      "metadata": {
        "id": "bsL1QX55y1BM"
      },
      "source": [
        "Como esperado, tivemos um erro. Nós devemos carregar o pacote, então.\n",
        "Para fazer isso, utilizamos a keyword *import* seguida do nome do package."
      ]
    },
    {
      "cell_type": "code",
      "metadata": {
        "id": "oEG7-JpIy1BM"
      },
      "source": [
        "import numpy\n",
        "numpy.array([1, 2, 3])"
      ],
      "execution_count": null,
      "outputs": []
    },
    {
      "cell_type": "markdown",
      "metadata": {
        "id": "VI91Ik0Xy1BN"
      },
      "source": [
        "Repare como precisamos especificar qual é o pacote ao qual a função ```array``` pertence. Poderia ficar muito chato se você tivesse que digitar os nomes dos pacotes todas as vezes que quisesse utilizar alguma coisa deles.\n",
        "\n",
        "Para te ajudar com isso, o Python permite que você utilize um *alias* para o nome do pacote, através da keyword *as*, tornando seu uso um pouco mais prático, como mostrado a seguir."
      ]
    },
    {
      "cell_type": "code",
      "metadata": {
        "id": "N8-5-ERVy1BN"
      },
      "source": [
        "import numpy as np\n",
        "np.array([1, 2, 3])"
      ],
      "execution_count": null,
      "outputs": []
    },
    {
      "cell_type": "markdown",
      "metadata": {
        "id": "eGmU8b1py1BN"
      },
      "source": [
        "Por último, é possível carregar apenas uma parte de um pacote com a expressão  ```from ... import ...```. Fazendo isso, você estará permitido a utilizar apenas a parte que você carregou do pacote, sem a necessidade de especificar o nome do pacote posteriormente. Observe abaixo."
      ]
    },
    {
      "cell_type": "code",
      "metadata": {
        "id": "i1SAE0fky1BN"
      },
      "source": [
        "from numpy import array\n",
        "array([1, 2, 3])"
      ],
      "execution_count": null,
      "outputs": []
    },
    {
      "cell_type": "markdown",
      "metadata": {
        "id": "IhP7cVyzy1BN"
      },
      "source": [
        "#### Exercício 1.4\n",
        "Complete o import statement no código abaixo para que ele funcione corretamente."
      ]
    },
    {
      "cell_type": "code",
      "metadata": {
        "id": "LF5MudC9y1BN"
      },
      "source": [
        "import math\n",
        "print(mt.exp(3))\n",
        "\n",
        "from math\n",
        "print(pi)"
      ],
      "execution_count": null,
      "outputs": []
    },
    {
      "cell_type": "markdown",
      "metadata": {
        "id": "OVwkion4y1BN"
      },
      "source": [
        "### 1.4. User-defined Functions\n",
        "\n",
        "Ok, então nós já sabemos como utilizar funções built-in e até mesmo importar pacotes para usar mais funções! Mas e se não existir uma função implementada para o que você quer fazer? \n",
        "É aí que entram as user-defined functions!\n",
        "\n",
        "Python permite que você escreva suas próprias funções e as use da mesma forma que você usa as funções built-in. A definição dessas funções começa com a keyword *def* e é seguida pela da função definida, com seus parâmetros dentro de parênteses separados por vírgulas, formando o que chamamos de cabeçalho da função. Depois disso, vem o corpo da função com o código que faz o que nós queremos fazer com ela, possivelmente terminando com a keyword *return* para retornar o resultado dela.\n",
        "\n",
        "Vamos ver na prática escrevendo uma função que eleva um número ao quadrado."
      ]
    },
    {
      "cell_type": "code",
      "metadata": {
        "id": "2G3b9E9ey1BN"
      },
      "source": [
        "def square(value):            # cabeçalho da função com a keyword 'def', o nome da função 'square' e o parâmetro 'value' \n",
        "    new_value = value ** 2    # bloco de código (corpo) da função\n",
        "    print(new_value)\n",
        "    \n",
        "square(3)                     # função sendo chamada - tente mudar o número passado como argumento para ver que isso realmente funciona\n",
        "square(4)\n",
        "square(5)"
      ],
      "execution_count": null,
      "outputs": []
    },
    {
      "cell_type": "markdown",
      "metadata": {
        "id": "_nwwn6tzy1BN"
      },
      "source": [
        "Então, temos uma função que printa o quadrado de um valor.\n",
        "\n",
        "E se nós precisarmos salvar esse valor ao quadrado? Neste caso, precisamos utilizar a keyword *return*. Vamos adaptar nossa função para fazer isso."
      ]
    },
    {
      "cell_type": "code",
      "metadata": {
        "id": "hJgP3wJby1BO"
      },
      "source": [
        "def square(value):            # cabeçalho da função com a keyword 'def', o nome da função 'square' e o parâmetro 'value' \n",
        "    new_value = value ** 2    # bloco de código (corpo) da função\n",
        "    return(new_value)         # return statement para retornar o resultado ao caller\n",
        "    \n",
        "squared_num = square(4)       # função sendo chamada e atribuindo o resultado à variável squared_num\n",
        "print(squared_num)\n",
        "squared_num2 = square(5)\n",
        "print(squared_num2)"
      ],
      "execution_count": null,
      "outputs": []
    },
    {
      "cell_type": "markdown",
      "metadata": {
        "id": "ZKvp2jtRy1BO"
      },
      "source": [
        "Uau, essa foi rápida! Você já sabe como definir suas funções mais simples!\n",
        "\n",
        "Existem mais duas coisas que precisamos saber antes de ir para funções mais complexas: docstrings e default arguments.\n",
        "\n",
        "Docstrings descreve o que a função faz e serve como documentação desta. Elas são colocadas bem abaixo do cabeçalho da função dentro de aspas triplas.\n",
        "\n",
        "Default arguments são aqueles parâmetros que possuem um valor *default*, que será usado caso não seja preenchido quando a função é chamada. Nós já falamos deles quando discutimos sobre a função *round* nas seções passadas.\n",
        "\n",
        "Vamos, agora, escrever outra função, raise_to_power, que retorna o resultado do primeiro valor passado elevado ao segundo valor passado. E, claro, iremos adicionar a docstring e um valor default de 2 para o segundo parâmetro. Para finalizar, utilizaremos a função help para ver o resultado."
      ]
    },
    {
      "cell_type": "code",
      "metadata": {
        "id": "vDxdt1L7y1BO"
      },
      "source": [
        "def raise_to_power(value1, value2=2):             # cabeçalho da função com o valor default de 2 para o segundo parâmetro\n",
        "    \"\"\"Raise value1 to the power of value2.\"\"\"    # docstring\n",
        "    new_value = value1 ** value2                  # corpo da função\n",
        "    return new_value                              # return statement\n",
        "\n",
        "two_cubed = raise_to_power(2, 3)                  # chamada da função\n",
        "print(\"Result 1:\", two_cubed)                     # print do resultado\n",
        "\n",
        "two_squared = raise_to_power(2)                   # chamada da função\n",
        "print(\"Result 2:\", two_squared)                   # print do resultado\n",
        "\n",
        "help(raise_to_power)                              # Help da função. Repare na docstring!"
      ],
      "execution_count": null,
      "outputs": []
    },
    {
      "cell_type": "markdown",
      "metadata": {
        "id": "tp4vftTpy1BP"
      },
      "source": [
        "Viu como funciona? A função help mostra exatamente a docstring que escrevemos na função. Isso é muito útil na documentação dos pacotes que utilizaremos. Uma das grandes vantagens do Python, como já dissemos, é sua incrível comunidade colaborando todo dia com milhares de funções que facilitam nossas vidas. Imagine se essas funções não fossem bem documentadas? Não haveria utilidade!!! **Não subestime a importância da documentação e uso da docstring**.\n",
        "\n",
        "#### Exercício 1.5\n",
        "Substitua o \\____ para escrever uma função na célula abaixo que faça o print retornar \"True\"."
      ]
    },
    {
      "cell_type": "code",
      "metadata": {
        "deletable": false,
        "exid": "1.5",
        "id": "4HaysR05y1BQ"
      },
      "source": [
        "def shout(string, n_times=1):\n",
        "    \"\"\"Add an exclamation to a string and repeats it n_times\"\"\"\n",
        "    upper = string.upper()\n",
        "    upper_exclamation = upper + \"!!!\"\n",
        "    repeated_upper_exclamation = \"___\"\n",
        "    return repeated_upper_exclamation\n",
        "\n",
        "print(shout(\"i did it\") == \"I DID IT!!!\")\n",
        "print(shout(\"i did it\", 3) == \"I DID IT!!!I DID IT!!!I DID IT!!!\")"
      ],
      "execution_count": null,
      "outputs": []
    },
    {
      "cell_type": "markdown",
      "metadata": {
        "id": "AEl4a88s_pgc"
      },
      "source": [
        "Um fato interessante a se notar é que esta função faz um papel similar ao método ```.join()```, porém sem o espaço no caracter final, como mostra o exemplo abaixo:"
      ]
    },
    {
      "cell_type": "code",
      "metadata": {
        "id": "Jeu1Yb8E_4Cw"
      },
      "source": [
        "print(\" \".join([\"I\", \"did\", \"it\"]) == \"I did it\")\n",
        "print(\" \".join([\"I\", \"did\", \"it\", \"again\", \"!!!\"]) == \"I did it again !!!\")"
      ],
      "execution_count": null,
      "outputs": []
    },
    {
      "cell_type": "markdown",
      "metadata": {
        "id": "xDZkVGOjI7Uc"
      },
      "source": [
        "<a name=\"numpy\"></a>\n",
        "## 2. NumPy\n",
        "\n"
      ]
    },
    {
      "cell_type": "markdown",
      "metadata": {
        "id": "FYsV7fiyI7Uc"
      },
      "source": [
        "### 2.1. O que é o NumPy?\n",
        "\n",
        "**NumPy** é a abreviação de *Numerical Python* ou *Numeric Python*. Ela é uma biblioteca *open-source* (ou seja, é um software cujo código original é disponibilizado livremente e pode ser distribuído e modificado) que oferece suporte a arrays e matrizes multidimensionais, provendo diversas funções matemáticas úteis em computação científica.\n",
        "\n",
        "Mas por que você deveria utilizar o NumPy? É simples! As listas do Python funcionam como as arrays, no entanto, são lentas para utilização com grandes volumes de dados. No ramo de Ciência de Dados, velocidade e recursos durante o processamento são bem importantes! Dessa forma, o NumPy nos possibilita utilizar os objetos arrays, que são bem mais rápidos que as listas tradicionais do Python.\n",
        "\n",
        "O **ndarray** é o objeto fundamental do NumPy. Este objeto é uma matriz N-dimensional, vamos entender melhor como este objeto funciona nas células abaixo."
      ]
    },
    {
      "cell_type": "markdown",
      "metadata": {
        "id": "OWBF8V3fI7Ud"
      },
      "source": [
        "#### 2.1.1. Importando o NumPy"
      ]
    },
    {
      "cell_type": "markdown",
      "metadata": {
        "id": "cmh4gzdFJqp6"
      },
      "source": [
        "Na aula anterior você já aprendeu a importar o NumPy, vamos importá-lo com o alias ```np```."
      ]
    },
    {
      "cell_type": "code",
      "metadata": {
        "id": "s2sCbGy_I7Ue",
        "scrolled": false
      },
      "source": [
        "import numpy as np"
      ],
      "execution_count": null,
      "outputs": []
    },
    {
      "cell_type": "markdown",
      "metadata": {
        "id": "FqF1WpJ7I7Uq"
      },
      "source": [
        "Vamos agora observar o porquê o NumPy é tão poderoso e preferível às listas do Python.\n",
        "\n",
        "Imagine que você tenha duas listas de dados de indivíduos, com alturas e pesos, e queira calcular o IMC [(Índice de Massa Corporal)](https://pt.wikipedia.org/wiki/Índice_de_massa_corporal) de cada um deles, como mostrado abaixo:"
      ]
    },
    {
      "cell_type": "code",
      "metadata": {
        "id": "4BxlI-C-I7Ut"
      },
      "source": [
        "altura = [1.81, 1.77, 1.69, 1.91]\n",
        "peso = [89.0, 77.3, 55.9, 99.4]\n",
        "\n",
        "# # Calculando o IMC\n",
        "# imc = peso / altura ** 2"
      ],
      "execution_count": null,
      "outputs": []
    },
    {
      "cell_type": "markdown",
      "metadata": {
        "id": "qCtEhF62I7Uv"
      },
      "source": [
        "Observe que o Python nos retornou um erro porque não é possivel realizar cálculos com listas, para isso vamos utilizar os arrays do NumPy!"
      ]
    },
    {
      "cell_type": "code",
      "metadata": {
        "id": "KNMFG6iEI7Uw"
      },
      "source": [
        "# Criando os arrays com o NumPy\n",
        "\n",
        "np_altura = np.array(altura)\n",
        "np_peso = np.array(peso)\n",
        "\n",
        "# Calculando o IMC\n",
        "imc = np_peso / np_altura ** 2\n",
        "imc"
      ],
      "execution_count": null,
      "outputs": []
    },
    {
      "cell_type": "markdown",
      "metadata": {
        "id": "w0SOdKBbI7Uy"
      },
      "source": [
        "O Numpy consegue realizar perfeitamente as operações elemento a elemento!\n",
        "\n",
        "Mas fique atento! O NumPy só consegue fazer isto pois ele assume que cada array possui elementos de um único tipo de dado. Se você tentar criar um array com tipos de dados diferentes, o NumPy irá converter todos os elementos para um único tipo. Observe abaixo:\n"
      ]
    },
    {
      "cell_type": "code",
      "metadata": {
        "id": "6EnSIBeviRhW"
      },
      "source": [
        "np.array([1.0, 4, True, \"NumPy\"])"
      ],
      "execution_count": null,
      "outputs": []
    },
    {
      "cell_type": "markdown",
      "metadata": {
        "id": "MhnufEJkJqp-"
      },
      "source": [
        "\n",
        "Além disso, algumas operações podem funcionar de forma diferente do que você imagina. Veja o exemplo abaixo:"
      ]
    },
    {
      "cell_type": "code",
      "metadata": {
        "id": "tML_YhdJI7Uz"
      },
      "source": [
        "# Lista do Python\n",
        "altura * 2"
      ],
      "execution_count": null,
      "outputs": []
    },
    {
      "cell_type": "code",
      "metadata": {
        "id": "YDEKa-xFI7U1"
      },
      "source": [
        "# NumPy array\n",
        "np_altura * 2"
      ],
      "execution_count": null,
      "outputs": []
    },
    {
      "cell_type": "markdown",
      "metadata": {
        "id": "pcH2OAfDI7U3"
      },
      "source": [
        "#### 2.1.2. Selecionando subconjuntos de NumPy Arrays\n",
        "A seleção de subconjuntos de NumPy arrays funciona de forma similar à listas de Python."
      ]
    },
    {
      "cell_type": "code",
      "metadata": {
        "id": "rwniB6TNI7U3"
      },
      "source": [
        "# retornando o terceiro elemento da array\n",
        "imc[2]"
      ],
      "execution_count": null,
      "outputs": []
    },
    {
      "cell_type": "markdown",
      "metadata": {
        "id": "uj--wzxrI7U5"
      },
      "source": [
        "Você também pode selecionar subconjuntos baseados em condições, de forma que apenas os valores que satisfazem as condições serão retornados."
      ]
    },
    {
      "cell_type": "code",
      "metadata": {
        "id": "RwCbDMxwI7U6"
      },
      "source": [
        "imc[imc > 25]"
      ],
      "execution_count": null,
      "outputs": []
    },
    {
      "cell_type": "code",
      "metadata": {
        "id": "R4Yma1GL-waZ"
      },
      "source": [
        "imc > 25"
      ],
      "execution_count": null,
      "outputs": []
    },
    {
      "cell_type": "markdown",
      "metadata": {
        "id": "UxtVUoQ-JqqC"
      },
      "source": [
        "Podemos combinar a seleção de um subconjunto com a utilização de uma função, observe:"
      ]
    },
    {
      "cell_type": "code",
      "metadata": {
        "id": "Gx5DzL4LJqqC"
      },
      "source": [
        "# soma do IMC do primeiro e segundo elementos\n",
        "sum(imc[0:2])"
      ],
      "execution_count": null,
      "outputs": []
    },
    {
      "cell_type": "markdown",
      "metadata": {
        "id": "2zxPjcqzI7U8"
      },
      "source": [
        "Agora vamos fazer um exercício para fixação."
      ]
    },
    {
      "cell_type": "markdown",
      "metadata": {
        "id": "DFgrAn-4I7U9"
      },
      "source": [
        "#### Exercício 2.1"
      ]
    },
    {
      "cell_type": "code",
      "metadata": {
        "deletable": false,
        "exid": "2.1.1",
        "id": "xCqSvuZKI7U9"
      },
      "source": [
        "#Exercício 2.1.1\n",
        "# lista de pesos de castanhas\n",
        "c_peso = [0.946, 0.918, 0.906, 0.904, 0.858, 0.774, 0.652, 0.516, 0.478, 0.404, 0.396, 0.364, 0.342, 0.304, \n",
        "            0.262, 0.208, 0.134, 0.974, 0.792, 0.792, 0.628, 0.552, 0.506, 0.478, 0.462, 0.436, 0.408, 0.378, \n",
        "            0.3, 0.298, 0.268, 0.252, 0.16, 0.114, 0.092, 0.936, 0.894, 0.744, 0.706, 0.694, 0.69, 0.652, 0.518, \n",
        "            0.508, 0.502, 0.5, 0.47, 0.44, 0.39, 0.384]\n",
        "\n",
        "# Importe o numpy como np\n",
        "\n",
        "# Crie um numpy array (np_c_peso) a partir de c_peso\n",
        "\n",
        "# Printe o tipo de np_c_peso\n"
      ],
      "execution_count": null,
      "outputs": []
    },
    {
      "cell_type": "code",
      "metadata": {
        "deletable": false,
        "exid": "2.1.2",
        "id": "2Q3pveLOI7U_",
        "scrolled": false
      },
      "source": [
        "#Exercício 2.1.2\n",
        "c_kg_preco = 45.00\n",
        "\n",
        "# Crie um numpy array (np_c_despesa) a partir de np_c_peso com a quantia gasta em cada compra\n"
      ],
      "execution_count": null,
      "outputs": []
    },
    {
      "cell_type": "code",
      "metadata": {
        "deletable": false,
        "exid": "2.1.3",
        "id": "Xe-lvBwBI7VB",
        "scrolled": true
      },
      "source": [
        "#Exercício 2.1.3\n",
        "# Crie a variável compras_acima_30 que corresponde ao valor total gasto nas compras que custaram mais de R$ 30. Printe o resultado\n"
      ],
      "execution_count": null,
      "outputs": []
    },
    {
      "cell_type": "code",
      "metadata": {
        "deletable": false,
        "exid": "2.1.4",
        "id": "wDn9adM4JqqF"
      },
      "source": [
        "# Exercício 2.1.4\n",
        "# Printe o peso no indíce 20 (vigésima primeira compra)\n"
      ],
      "execution_count": null,
      "outputs": []
    },
    {
      "cell_type": "markdown",
      "metadata": {
        "id": "C-4-5HH1I7VD"
      },
      "source": [
        "#### 2.1.3.  Array N-dimensional\n",
        "Vamos verificar o tipo dos arrays criados acima!"
      ]
    },
    {
      "cell_type": "code",
      "metadata": {
        "id": "LCgv4mtYI7VD"
      },
      "source": [
        "print(type(np_c_peso))"
      ],
      "execution_count": null,
      "outputs": []
    },
    {
      "cell_type": "markdown",
      "metadata": {
        "id": "ACK51kB7I7VG"
      },
      "source": [
        "**ndarrays** significam arrays N-dimensionais, vamos criar um NumPy array multi-dimensional a partir de listas tradicionais do Python."
      ]
    },
    {
      "cell_type": "code",
      "metadata": {
        "id": "xPyc-WqnI7VG"
      },
      "source": [
        "np_2d = np.array([[1.81, 1.77, 1.69, 1.91],\n",
        "                  [89.0, 77.3, 55.9, 99.4]])\n",
        "np_2d"
      ],
      "execution_count": null,
      "outputs": []
    },
    {
      "cell_type": "markdown",
      "metadata": {
        "id": "pdWHekG8I7VI"
      },
      "source": [
        "Cada sublista da lista corresponde à uma linha da array bi-dimensional criada.\n",
        "Nós podemos verificar o tamanho do array usando o atributo ```shape```."
      ]
    },
    {
      "cell_type": "code",
      "metadata": {
        "id": "NDV2yCBVI7VI"
      },
      "source": [
        "np_2d.shape"
      ],
      "execution_count": null,
      "outputs": []
    },
    {
      "cell_type": "markdown",
      "metadata": {
        "id": "wlRoKTY7I7VK"
      },
      "source": [
        "Podemos ver que o np_2d tem 2 linhas e 4 colunas."
      ]
    },
    {
      "cell_type": "markdown",
      "metadata": {
        "id": "7FwtOqG0I7VK"
      },
      "source": [
        "#### 2.1.4. Selecionando subconjuntos de array bidimensional\n",
        "\n",
        "Assim como o array unidimensional, também podemos selecionar um subconjunto de um array bidimensional, usando o índice da linha e coluna como exemplifica a imagem abaixo.\n",
        "![Subsetting](https://imgur.com/08EIOjy.png)\n",
        "Veja alguns exemplos de como isso é feito."
      ]
    },
    {
      "cell_type": "code",
      "metadata": {
        "id": "wuhs2K0II7VL"
      },
      "source": [
        "# Selecionando a primeira linha\n",
        "np_2d[0]"
      ],
      "execution_count": null,
      "outputs": []
    },
    {
      "cell_type": "code",
      "metadata": {
        "id": "9XQL-bOLI7VN"
      },
      "source": [
        "# Selecionando a altura (primeira linha) do terceiro elemento\n",
        "np_2d[0][2]"
      ],
      "execution_count": null,
      "outputs": []
    },
    {
      "cell_type": "markdown",
      "metadata": {
        "id": "nNYPyUANI7VO"
      },
      "source": [
        "Basicamente nós selecionamos a linha, e a partir daquela linha fazemos outra seleção.\n",
        "\n",
        "Também é possível selecionar utilizando vírgulas dentro de colchetes: ```array[linha, coluna]```"
      ]
    },
    {
      "cell_type": "code",
      "metadata": {
        "id": "JalM9A2EI7VP"
      },
      "source": [
        "# Primeira linha e terceira colna\n",
        "np_2d[0, 2]"
      ],
      "execution_count": null,
      "outputs": []
    },
    {
      "cell_type": "code",
      "metadata": {
        "id": "ksqMjmYEI7VR"
      },
      "source": [
        "# Todas as linhas e segunda e terceira coluna\n",
        "np_2d[:, 1:3] "
      ],
      "execution_count": null,
      "outputs": []
    },
    {
      "cell_type": "markdown",
      "metadata": {
        "id": "WcAa54mqI7VT"
      },
      "source": [
        "#### Exercício 2.2\n",
        "\n",
        "Abaixo temos uma lista de listas contendo informações de vendas de castanhas de uma loja. Cada lista representa uma venda que foi realizada. O primeiro elemento de cada lista é o dia que  venda foi feita, o segundo elemento representa o peso das castanhas compradas. Por fim, o terceiro elemento é a quantia paga pelas castanhas.\n",
        "\n",
        "Com isso em mente, faça os seguintes exercícios:"
      ]
    },
    {
      "cell_type": "code",
      "metadata": {
        "deletable": false,
        "exid": "2.2.1",
        "id": "UjZhdLusI7VU"
      },
      "source": [
        "# Exercício 2.2.1\n",
        "castanha = [[2, 0.946, 66.1], \n",
        "          [2, 0.918, 32.96], \n",
        "          [2, 0.906, 58.76],\n",
        "          [2, 0.904, 29.14], \n",
        "          [2, 0.858, 59.96],\n",
        "          [2, 0.774, 27.77],\n",
        "          [2, 0.652, 42.3],\n",
        "          [2, 0.516, 18.51], \n",
        "          [2, 0.478, 17.15],\n",
        "          [2, 0.404, 28.22], \n",
        "          [2, 0.396, 7.88], \n",
        "          [2, 0.364, 7.24],\n",
        "          [2, 0.342, 22.18], \n",
        "          [2, 0.304, 10.91], \n",
        "          [2, 0.262, 9.41], \n",
        "          [2, 0.208, 4.13],\n",
        "          [2, 0.134, 9.36],\n",
        "          [4, 0.974, 34.95],\n",
        "          [4, 0.792, 51.38],\n",
        "          [4, 0.792, 51.38], \n",
        "          [4, 0.628, 12.48], \n",
        "          [4, 0.552, 19.81], \n",
        "          [4, 0.506, 25], \n",
        "          [4, 0.478, 31], \n",
        "          [4, 0.462, 32.24],\n",
        "          [4, 0.436, 28.28],\n",
        "          [4, 0.408, 14.64],\n",
        "          [4, 0.378, 13.56],\n",
        "          [4, 0.3, 19.46],\n",
        "          [4, 0.298, 10.69],\n",
        "          [4, 0.268, 9.62],\n",
        "          [4, 0.252, 16.34],\n",
        "          [4, 0.16, 3.18],\n",
        "          [4, 0.114, 4.09],\n",
        "          [4, 0.092, 5.97],\n",
        "          [5, 0.936, 65.33],\n",
        "          [5, 0.894, 32.07],\n",
        "          [5, 0.744, 48.28], \n",
        "          [5, 0.706, 25.34],\n",
        "          [5, 0.694, 24.91], \n",
        "          [5, 0.69, 13.72], \n",
        "          [5, 0.652, 42.32], \n",
        "          [5, 0.518, 33.6], \n",
        "          [5, 0.508, 18.23],\n",
        "          [5, 0.502, 35.09],\n",
        "          [5, 0.5, 27.45], \n",
        "          [5, 0.47, 9.35], \n",
        "          [5, 0.44, 28.54],\n",
        "          [5, 0.39, 7.76], \n",
        "          [5, 0.384, 21.08]]\n",
        "\n",
        "# Crie um numpy array 2d (np_castanha) a partir de castanha\n",
        "\n",
        "# Printe o tipo de np_castanha\n",
        "\n",
        "# Printe as dimensões (número de linhas e colunas)\n"
      ],
      "execution_count": null,
      "outputs": []
    },
    {
      "cell_type": "code",
      "metadata": {
        "deletable": false,
        "exid": "2.2.2",
        "id": "SWkISBQDI7VX",
        "scrolled": false
      },
      "source": [
        "# Exercício 2.2.2\n",
        "# Crie um numpy array (np_peso) que corresponde à toda segunda coluna de np_castanha\n"
      ],
      "execution_count": null,
      "outputs": []
    },
    {
      "cell_type": "code",
      "metadata": {
        "id": "PFzZj3zNJqqK"
      },
      "source": [
        "# Exercício 2.2.3\n",
        "# Printe o preço da 14ª (décima quarta) venda\n",
        "\n",
        "# Printe todas as vendas feitas após o dia 2\n"
      ],
      "execution_count": null,
      "outputs": []
    },
    {
      "cell_type": "markdown",
      "metadata": {
        "id": "YIEqkTlVI7VZ"
      },
      "source": [
        "#### 2.1.5. Estatística básica com NumPy\n",
        "Costumeiramente o primeiro passo para analisar nossos dados é conhecê-los através de estatística descritiva. O NumPy pode ser usado para obter essa visão inicial dos dados mesmo com grande quantidade de observações. Nos próximos módulos teremos uma aula dedicada à estatística básica, então não se preocupe se você não entender algum dos conceitos utilizados abaixo.\n",
        "\n",
        "Vamos então usar alguns atributos do NumPy para começar a analisar nossos dados."
      ]
    },
    {
      "cell_type": "code",
      "metadata": {
        "id": "sTkUT6xzI7VZ"
      },
      "source": [
        "np_a_p = np.array([[1.81, 89.0],\n",
        "                  [1.77, 77.3],\n",
        "                  [1.69, 55.9],\n",
        "                  [1.91, 99.4]])\n",
        "\n",
        "# Calculando a média dos pesos\n",
        "np.mean(np_a_p[:, 1])"
      ],
      "execution_count": null,
      "outputs": []
    },
    {
      "cell_type": "code",
      "metadata": {
        "id": "GFAOifpqI7Vc"
      },
      "source": [
        "# calculando a mediana dos pesos\n",
        "np.median(np_a_p[:, 1])"
      ],
      "execution_count": null,
      "outputs": []
    },
    {
      "cell_type": "code",
      "metadata": {
        "id": "Y3z2MNdDI7Vd"
      },
      "source": [
        "# calculando os coeficientes de correlação entre pesos e alturas\n",
        "np.corrcoef(np_a_p[:, 0], np_a_p[:, 1])"
      ],
      "execution_count": null,
      "outputs": []
    },
    {
      "cell_type": "code",
      "metadata": {
        "id": "Dd8HC0onI7Vg"
      },
      "source": [
        "# calculando o desvio padrão dos pesos\n",
        "np.std(np_a_p[:, 1])"
      ],
      "execution_count": null,
      "outputs": []
    },
    {
      "cell_type": "code",
      "metadata": {
        "id": "b2taaZh6I7Vh"
      },
      "source": [
        "# calculando a soma dos pesos\n",
        "np.sum(np_a_p[:, 1])"
      ],
      "execution_count": null,
      "outputs": []
    },
    {
      "cell_type": "markdown",
      "metadata": {
        "id": "DzNkxEpAI7Vj"
      },
      "source": [
        "Alguns desses atributos já estão disponíveis no Python, no entanto, a principal diferença entre eles é a performance. Os atributos do NumPy são mais rápidos na execução do que os básicos do Python."
      ]
    },
    {
      "cell_type": "markdown",
      "metadata": {
        "id": "cv9uSyMSI7Vj"
      },
      "source": [
        "Lembrando que sempre que tiver dificuldade para entender algum atributo, você pode consultar a documentação do [NumPy](https://numpy.org/doc/)."
      ]
    },
    {
      "cell_type": "markdown",
      "metadata": {
        "id": "Pp0AJiz8I7Vk"
      },
      "source": [
        "Agora ja aprendemos como o NumPy funciona.\n",
        "Existe uma outra biblioteca bastante utilizadas para manipulação de dados em Python, o **Pandas**!\n",
        "Sera visto futuramente"
      ]
    },
    {
      "cell_type": "markdown",
      "metadata": {
        "id": "gh-6FNlAKI4m"
      },
      "source": [
        "<a name=\"orientacao_objetos\"></a>\n",
        "## 3. Orientação a objetos"
      ]
    },
    {
      "cell_type": "markdown",
      "metadata": {
        "id": "s6q7W_dDKZ4N"
      },
      "source": [
        "O Python é uma linguagem de programação extremamente versátil e nos possibilita, também, programar utilizando orientação a objetos. Isto é, podemos criar nossos próprios objetos e definir as principais operações e atributos de cada um deles.\n",
        "Por se tratar de um tema extremamente extenso, iremos abordar apenas a parte mais básica sobre orientação a objetos. Para mais informações, você pode visitar o link da documentação oficial [aqui](https://docs.python.org/3/tutorial/classes.html)."
      ]
    },
    {
      "cell_type": "markdown",
      "metadata": {
        "id": "h8_wIE4cLMWs"
      },
      "source": [
        "### 3.1. Definindo uma nova classe\n",
        "Classes são definidas como novos objetos no Python, podendo ter atributos associados (os valores que indicam o estado atual do objeto), como os valores de uma lista, e métodos, que definem como o objeto pode ter seu estado modificado.\n",
        "Para exemplificar isto, iremos criar uma classe que representa um número complexo com parte real e imaginária."
      ]
    },
    {
      "cell_type": "code",
      "metadata": {
        "id": "TeNTgd4cL2e5"
      },
      "source": [
        "class Complexo(): # definindo a classe de números imaginários\n",
        "  def __init__(self, real, imag=0.0): # chamada inicial do método, em que, por padrão, a parte imaginária do número é nula\n",
        "    # self é a representação do estado atual da classe, aqui atribuímos os valores da parte real e imaginária do número complexo\n",
        "    self.real = real \n",
        "    self.imag = imag\n",
        "  def soma(self,real,imag=0.0): # aqui definimos um método para retornar uma string com a soma de 2 números imaginários\n",
        "    return (f'{self.real+real} {self.imag+imag}i')\n",
        "  def abs(self): # definimos o valor módulo do número complexo\n",
        "    return (self.real**2+self.imag**2)**0.5"
      ],
      "execution_count": null,
      "outputs": []
    },
    {
      "cell_type": "code",
      "metadata": {
        "id": "cPRPFjKXNMZA"
      },
      "source": [
        "a=Complexo(1,1) # Criar o número complexo 1+i\n",
        "print(a.soma(1,-2)) # Printar a soma de 1+i com 1-2i\n",
        "print(a.abs()) # Printar o modulo de 1+i"
      ],
      "execution_count": null,
      "outputs": []
    },
    {
      "cell_type": "code",
      "source": [
        ""
      ],
      "metadata": {
        "id": "PaRtx4vKV08N"
      },
      "execution_count": null,
      "outputs": []
    }
  ]
}
