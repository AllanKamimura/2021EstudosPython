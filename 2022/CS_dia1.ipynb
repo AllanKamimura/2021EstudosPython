{
  "cells": [
    {
      "cell_type": "markdown",
      "metadata": {
        "id": "view-in-github",
        "colab_type": "text"
      },
      "source": [
        "<a href=\"https://colab.research.google.com/github/AllanKamimura/2021EstudosPython/blob/main/2022/CS_dia1.ipynb\" target=\"_parent\"><img src=\"https://colab.research.google.com/assets/colab-badge.svg\" alt=\"Open In Colab\"/></a>"
      ]
    },
    {
      "cell_type": "markdown",
      "metadata": {
        "id": "hOwrg1chb6eD"
      },
      "source": [
        "# <center> Introdução Python - Parte 1 </center>\n",
        "___\n",
        "\n",
        "## Conteúdo\n",
        "1. [Introdução](#intro)\n",
        "2. [Python/Jupyter Básico](#basics)\n",
        "3. [Python Datatypes](#datatypes)\n",
        "\n",
        "<a id=\"intro\"></a>\n",
        "## 1. Introdução\n",
        "\n",
        "### Porque aprender Python?\n",
        "*   Linguagem de programação de uso geral (a linguagem pode ser utilizada para qualquer aplicação)\n",
        "*   Open-source (seu uso é gratuito!)\n",
        "*   Python possui uma sintaxe bem fácil! Além disso, sua comunidade é gigantesca, fazendo com que seja uma das linguagens mais fáceis de aprender!\n",
        "*    Linguagem mais popular para Ciência de Dados e Machine Learning\n",
        "\n",
        "![utilizacao_linguagens](https://i.imgur.com/WkccR7F.png)"
      ]
    },
    {
      "cell_type": "markdown",
      "metadata": {
        "id": "2KJuyyY7b6eS"
      },
      "source": [
        "<a id=\"basics\"></a>\n",
        "## 2. Python/Jupyter Básico\n",
        "\n",
        "### 2.1 O que é Jupyter?\n",
        "\"Jupyter\" é um acrônimo que significa Julia, Python, and R. Essas linguagens de programação foram as primeiras utilizadas na aplicação Jupyter, mas, atualmente, o notebook também suporta  [muitas outras linguagens](https://github.com/jupyter/jupyter/wiki/Jupyter-kernels).\n",
        "\n"
      ]
    },
    {
      "cell_type": "markdown",
      "source": [
        "### Text cell\n",
        "\n",
        "*   Markdown\n",
        "*   HTML\n",
        "*   LaTeX\n",
        "\n",
        "---\n",
        "\n",
        "<center>\n",
        "${\\Huge∫^0_{-∞}}{\\huge∫}{\\Large∫}{\\large∫}\\frac{∂^2α}{∂θ_f^2}$\n",
        "$⋅{\\large\\frac{∂^2α}{∂θ_f^2}}$\n",
        "</center>\n",
        "\n",
        "x|y |z\n",
        "-|--|-\n",
        "2|4 |8\n",
        "3|9 |27\n",
        "4|16|64\n",
        "\n",
        "\n",
        "\n"
      ],
      "metadata": {
        "id": "1RfAA_b8BOqw"
      }
    },
    {
      "cell_type": "code",
      "execution_count": null,
      "metadata": {
        "id": "xLoQ8GIbb6ee",
        "colab": {
          "base_uri": "https://localhost:8080/"
        },
        "outputId": "a7b8063f-d3f3-4690-cd6d-23887f125d86"
      },
      "outputs": [
        {
          "output_type": "stream",
          "name": "stdout",
          "text": [
            "Isso será printado.\n"
          ]
        }
      ],
      "source": [
        "# Code cell\n",
        "print(\"Isso será printado.\")  # print(\"Isso não será printado\")"
      ]
    },
    {
      "cell_type": "markdown",
      "metadata": {
        "id": "smJUIRfAb6ec"
      },
      "source": [
        "#### Exercício 2.1 (SUA VEZ)"
      ]
    },
    {
      "cell_type": "code",
      "execution_count": null,
      "metadata": {
        "id": "ABJkCbTub6ed"
      },
      "outputs": [],
      "source": [
        "# Printe Hello World\n"
      ]
    },
    {
      "cell_type": "markdown",
      "metadata": {
        "id": "TBDCn0Lqb6eg"
      },
      "source": [
        "### 2.6. Python como calculadora  - Operações básicas\n",
        "\n",
        "#### 2.6.1 Operações Matemáticas\n",
        "Através do Python é perfeitamente possível realizar cálculos básicos. Mas além das operações de adição, subtração, multiplicação e divisão, também é possível fazer operações matemáticas mais avançadas, como por exemplo:\n",
        "\n",
        "- **Exponenciação** (\\*\\*): Esse operador eleva o número da esquerda (base) ao número da direita (expoente). Por exemplo, 4\\*\\*2 resultará 16.\n",
        "- **Módulo** (%): Esse operador retorna o resto da divisão do número da esquerda pelo número da direita. Por exemplo, 18 % 7 é igual a 4.\n"
      ]
    },
    {
      "cell_type": "code",
      "execution_count": null,
      "metadata": {
        "id": "dY14j850b6eg",
        "colab": {
          "base_uri": "https://localhost:8080/"
        },
        "outputId": "acae2346-c97c-4cbc-8ae0-72624fc73880"
      },
      "outputs": [
        {
          "output_type": "stream",
          "name": "stdout",
          "text": [
            "12\n"
          ]
        }
      ],
      "source": [
        "# Adição\n",
        "print(7 + 5)"
      ]
    },
    {
      "cell_type": "code",
      "execution_count": null,
      "metadata": {
        "id": "aG8sByKsb6eh",
        "colab": {
          "base_uri": "https://localhost:8080/"
        },
        "outputId": "45a0db6d-5718-4e0b-bed7-1a51fcce3a0e"
      },
      "outputs": [
        {
          "output_type": "stream",
          "name": "stdout",
          "text": [
            "2\n"
          ]
        }
      ],
      "source": [
        "# Subtração\n",
        "print(7 - 5)"
      ]
    },
    {
      "cell_type": "code",
      "execution_count": null,
      "metadata": {
        "id": "qdKa7tJWb6eh",
        "colab": {
          "base_uri": "https://localhost:8080/"
        },
        "outputId": "72dc1bf0-b644-4e0b-fadc-2f904b15e35b"
      },
      "outputs": [
        {
          "output_type": "stream",
          "name": "stdout",
          "text": [
            "35\n"
          ]
        }
      ],
      "source": [
        "# Multiplicação\n",
        "print(7 * 5)"
      ]
    },
    {
      "cell_type": "code",
      "execution_count": null,
      "metadata": {
        "id": "svB37hS2b6ej",
        "colab": {
          "base_uri": "https://localhost:8080/"
        },
        "outputId": "eebdb6f4-2bc7-4b73-da77-48760834c5bd"
      },
      "outputs": [
        {
          "output_type": "stream",
          "name": "stdout",
          "text": [
            "1.4\n"
          ]
        }
      ],
      "source": [
        "# Divisão\n",
        "print(7 / 5)"
      ]
    },
    {
      "cell_type": "code",
      "execution_count": null,
      "metadata": {
        "id": "tOVsaW0Bb6ek",
        "colab": {
          "base_uri": "https://localhost:8080/"
        },
        "outputId": "74c2c5c4-7fcb-42be-85c6-82369c7767e0"
      },
      "outputs": [
        {
          "output_type": "stream",
          "name": "stdout",
          "text": [
            "2\n"
          ]
        }
      ],
      "source": [
        "# Módulo\n",
        "print(7 % 5)"
      ]
    },
    {
      "cell_type": "code",
      "execution_count": null,
      "metadata": {
        "id": "fwl2WYREb6el",
        "colab": {
          "base_uri": "https://localhost:8080/"
        },
        "outputId": "a47843eb-56cb-4c71-83c9-bfa2ec806b7e"
      },
      "outputs": [
        {
          "output_type": "stream",
          "name": "stdout",
          "text": [
            "16807\n"
          ]
        }
      ],
      "source": [
        "# Exponenciação\n",
        "print(7 ** 5)"
      ]
    },
    {
      "cell_type": "markdown",
      "metadata": {
        "id": "TkaEWEIUb6em"
      },
      "source": [
        "#### Exercício 2.3 (SUA VEZ)\n",
        "Suponha que você tenha \\$100 e que você queira investir esse montante com uma taxa de retorno de 10\\% ao ano. Após um ano, você terá 100×1.1=110 reais. Após dois anos, você terá 100×1.1×1.1=121 reais. Escreva um código na célula abaixo, que printe quanto de capital você terá com esse investimento **após 25 anos**."
      ]
    },
    {
      "cell_type": "code",
      "execution_count": null,
      "metadata": {
        "deletable": false,
        "exid": "2.3",
        "id": "iLmxIOhNb6em"
      },
      "outputs": [],
      "source": [
        "#Escreva sua resposta aqui\n"
      ]
    },
    {
      "cell_type": "markdown",
      "metadata": {
        "id": "4zGoCR0Yb6en"
      },
      "source": [
        "#### 2.6.2 Operações lógicas (booleana)\n",
        "Python também suporta operadores lógicos e eles são realmente úteis quando estamos lidando com testes condicionais no código (não se preocupe, iremos explicar esse tópico mais pra frente). Essas operações lógicas retornam apenas resultados lógicos (booleanos) e elas podem ser classificadas nas seguintes categorias:\n",
        "\n",
        "**Comparações**\n",
        "\n",
        "Como o próprio nome sugere, essas operações comparam dois objetos e são muito úteis para determinar o comportamento do seu código em vários cenários (são muito úteis para executar o código bloco a bloco e entender se ele está fazendo o que é esperado)."
      ]
    },
    {
      "cell_type": "code",
      "execution_count": null,
      "metadata": {
        "id": "o3824Yuob6eo",
        "colab": {
          "base_uri": "https://localhost:8080/"
        },
        "outputId": "bf084d26-c68c-414d-baf7-4fabb53e5086"
      },
      "outputs": [
        {
          "output_type": "stream",
          "name": "stdout",
          "text": [
            "True\n",
            "False\n",
            "True\n"
          ]
        }
      ],
      "source": [
        "#Igual [==]. O operador == compara os VALORES dos operandos e checa a igualdade de VALORES\n",
        "print(10 == 10)\n",
        "print(\"Hi\" == \"Hello\")\n",
        "\n",
        "#Diferente de [!=]\n",
        "print (\"CASE SENSITIVE\" != \"Case Sensitive\")"
      ]
    },
    {
      "cell_type": "code",
      "execution_count": null,
      "metadata": {
        "id": "AHmlHd03b6ep",
        "colab": {
          "base_uri": "https://localhost:8080/"
        },
        "outputId": "93eab3cf-679b-45ce-ecb2-b24e2d38a50c"
      },
      "outputs": [
        {
          "output_type": "stream",
          "name": "stdout",
          "text": [
            "True\n",
            "False\n"
          ]
        }
      ],
      "source": [
        "#Maior [>] (ou igual [>=]) que\n",
        "print(5 > 3)\n",
        "#Menor [<] (ou igual [<=]) que\n",
        "print(5 < 3)"
      ]
    },
    {
      "cell_type": "markdown",
      "metadata": {
        "id": "2Hici9L6b6es"
      },
      "source": [
        "**Bitwise**\n",
        "\n",
        "Basicamente essas operações funcionam similarmente aos clássicos AND, OR, NOT, etc. Elas são chamadas de bitwise porque executam a operação bit a bit!"
      ]
    },
    {
      "cell_type": "code",
      "execution_count": null,
      "metadata": {
        "id": "o-ZDCxTjb6es",
        "colab": {
          "base_uri": "https://localhost:8080/"
        },
        "outputId": "c9f6fdb8-fc0a-4a60-989a-c03089b9a30b"
      },
      "outputs": [
        {
          "output_type": "stream",
          "name": "stdout",
          "text": [
            "False\n",
            "True\n",
            "False\n"
          ]
        }
      ],
      "source": [
        "#AND (&)\n",
        "print(False & False)\n",
        "print(True & True)\n",
        "print(True & False)"
      ]
    },
    {
      "cell_type": "code",
      "execution_count": null,
      "metadata": {
        "id": "E9-uqqHlb6es",
        "colab": {
          "base_uri": "https://localhost:8080/"
        },
        "outputId": "05427d5e-8505-49cf-85c9-1c947208700e"
      },
      "outputs": [
        {
          "output_type": "stream",
          "name": "stdout",
          "text": [
            "True\n",
            "False\n",
            "True\n"
          ]
        }
      ],
      "source": [
        "#OR (|)\n",
        "print(True | False)\n",
        "print(False | False)\n",
        "print(True | True)"
      ]
    },
    {
      "cell_type": "code",
      "execution_count": null,
      "metadata": {
        "id": "J7wEqAYwb6et",
        "colab": {
          "base_uri": "https://localhost:8080/"
        },
        "outputId": "c775eb4e-1e41-4af9-9476-267355b19191"
      },
      "outputs": [
        {
          "output_type": "stream",
          "name": "stdout",
          "text": [
            "True\n",
            "False\n",
            "False\n"
          ]
        }
      ],
      "source": [
        "#XOR (^). (eXclusive OR)\n",
        "print(True ^ False)\n",
        "print(False ^ False)\n",
        "print(True ^ True)"
      ]
    },
    {
      "cell_type": "code",
      "execution_count": null,
      "metadata": {
        "id": "yTNTQHwob6et",
        "scrolled": true,
        "colab": {
          "base_uri": "https://localhost:8080/"
        },
        "outputId": "7819dc15-ab65-402d-d761-182add1d3196"
      },
      "outputs": [
        {
          "output_type": "stream",
          "name": "stdout",
          "text": [
            "True\n"
          ]
        }
      ],
      "source": [
        "#NOT\n",
        "print(not False) "
      ]
    },
    {
      "cell_type": "markdown",
      "metadata": {
        "id": "ia2kOXT7b6e0"
      },
      "source": [
        "**Pertence a**\n",
        "\n",
        "Essa operação checa se um objeto está dentro/contido de algum outro objeto. Para fazer isso, você deve usar os operadores **in** e **not in**. Veja:"
      ]
    },
    {
      "cell_type": "code",
      "execution_count": null,
      "metadata": {
        "id": "oRxvOfMrb6e1",
        "colab": {
          "base_uri": "https://localhost:8080/"
        },
        "outputId": "2f9f4701-b458-4b9b-9afb-495ff343c4bb"
      },
      "outputs": [
        {
          "output_type": "stream",
          "name": "stdout",
          "text": [
            "False\n",
            "True\n"
          ]
        }
      ],
      "source": [
        "#Pertence a\n",
        "print(\"The force is with\" in \"me\")\n",
        "print(\"The force is\" not in \"with me\")"
      ]
    },
    {
      "cell_type": "markdown",
      "metadata": {
        "id": "B0YHlrzab6e3"
      },
      "source": [
        "#### Exercício 2.6 (SUA VEZ)\n",
        "Tente adivinhar o output das seguintes comparações. Comente seus palpites e execute o código para ver se você estava certo! *Lembre-se que essas operações retornam apenas valores lógicos, i.e., True ou False*"
      ]
    },
    {
      "cell_type": "code",
      "execution_count": null,
      "metadata": {
        "id": "L4aq7Qucb6e4",
        "colab": {
          "base_uri": "https://localhost:8080/"
        },
        "outputId": "8369c5c6-ef40-429f-eff9-2cabb329930b"
      },
      "outputs": [
        {
          "output_type": "stream",
          "name": "stdout",
          "text": [
            "True\n"
          ]
        }
      ],
      "source": [
        "print(\"Hello\" in \"Hello\")"
      ]
    },
    {
      "cell_type": "code",
      "execution_count": null,
      "metadata": {
        "id": "OdLEccHDb6e8",
        "colab": {
          "base_uri": "https://localhost:8080/"
        },
        "outputId": "c40edf29-d3cd-4630-db12-6dd12af30020"
      },
      "outputs": [
        {
          "output_type": "stream",
          "name": "stdout",
          "text": [
            "True\n"
          ]
        }
      ],
      "source": [
        "print(\"5\" in \"25\") "
      ]
    },
    {
      "cell_type": "code",
      "execution_count": null,
      "metadata": {
        "id": "_3EcAfDAb6e-",
        "colab": {
          "base_uri": "https://localhost:8080/"
        },
        "outputId": "2d18ac75-2c07-4e77-f04b-f079f9f8775e"
      },
      "outputs": [
        {
          "output_type": "stream",
          "name": "stdout",
          "text": [
            "True\n"
          ]
        }
      ],
      "source": [
        "print (\"This is a test\" not in \"This is not a test\") "
      ]
    },
    {
      "cell_type": "markdown",
      "metadata": {
        "id": "UPw0987Qb6e-"
      },
      "source": [
        "### 2.7. Variáveis e Tipos\n",
        "\n",
        "Em Python, uma variável nada mais é que um **label**. Considere que uma variável seja um nome atrelado a um objeto, mas **não é o próprio objeto!** No Python, não é necessário realizar declaração de variáveis (como é necessário em muitas outras linguagens de programação). A variável é criada no momento que você atribui um valor a ela. **Assignment (atribuição de valor)** é feita com sinal de igual simples (=):"
      ]
    },
    {
      "cell_type": "code",
      "execution_count": null,
      "metadata": {
        "id": "KSDhCZmrb6e_",
        "colab": {
          "base_uri": "https://localhost:8080/"
        },
        "outputId": "3e8f1119-f9e2-4c61-bf14-a1cc971c4ef0"
      },
      "outputs": [
        {
          "output_type": "stream",
          "name": "stdout",
          "text": [
            "5\n"
          ]
        }
      ],
      "source": [
        "#Criando uma variável x ao atribuir um valor a ela\n",
        "\n",
        "x = 5 #Lê-se como algo do tipo “a x é atribuído o valor 5\".\n",
        "\n",
        "#Uma vez que a atribuição é feita, a variável poderá ser usada em qualquer expressão, e seu valor poderá ser substituído\n",
        "print(x)"
      ]
    },
    {
      "cell_type": "markdown",
      "metadata": {
        "id": "YGJLB60bb6fA"
      },
      "source": [
        "![Imgur](https://i.imgur.com/I3KOq2E.jpg)."
      ]
    },
    {
      "cell_type": "markdown",
      "metadata": {
        "id": "LC3OrOYKb6fA"
      },
      "source": [
        "#### 2.7.1. Nomes de variáveis\n",
        "Uma variável pode ter um nome curto (como x ou y) ou um nome mais descritivo (idade, nome_carro, volume_total). [Regras para nomes de variáveis](https://www.python.org/dev/peps/pep-0008/#function-and-variable-names) no Python podem ser sintetizadas da seguinte forma:\n",
        "- Um nome de variável deve começar com uma letra ou o caractere underscore\n",
        "- Um nome de variável não pode começar com um algarismo numérico\n",
        "- Um nome de variável deve conter apenas caracteres alfanuméricos e underscores (A-z, 0-9, and _ )\n",
        "- Nomes de variáveis são case-sensitives (age, Age e AGE são três variáveis distintas)"
      ]
    },
    {
      "cell_type": "code",
      "execution_count": null,
      "metadata": {
        "id": "a5lxXz3Ab6fA",
        "colab": {
          "base_uri": "https://localhost:8080/"
        },
        "outputId": "64da581f-a94f-461f-a3ea-4fa507f515c8"
      },
      "outputs": [
        {
          "output_type": "stream",
          "name": "stdout",
          "text": [
            "Name:  Jose da Silva\n",
            "Age:   27\n"
          ]
        }
      ],
      "source": [
        "#Criando três variáveis utilizando as convenções de nomes\n",
        "name = \"Jose da Silva\"\n",
        "age  = 27\n",
        "\n",
        "#Printando as variáveis\n",
        "print (\"Name: \", name)\n",
        "print (\"Age:  \", age)"
      ]
    },
    {
      "cell_type": "markdown",
      "metadata": {
        "id": "hhgRcF9Kb6fB"
      },
      "source": [
        "#### 2.7.2. Cálculos com variáveis\n",
        "Agora que já sabemos como criar variáveis com \"bons nomes\", nós podemos usá-las para fazer alguns cálculos. Vamos resolver o exercício 2.3, mas, agora, utilizando variáveis em vez de printar o resultado diretamente."
      ]
    },
    {
      "cell_type": "code",
      "execution_count": null,
      "metadata": {
        "id": "2hjG4qpNb6fB",
        "colab": {
          "base_uri": "https://localhost:8080/"
        },
        "outputId": "2690eada-d562-4e54-de84-801f43544a20"
      },
      "outputs": [
        {
          "output_type": "stream",
          "name": "stdout",
          "text": [
            "O montante acumulado por Jose da Silva ao longo de 25 anos foi de 1083.4705943388394 reais!\n"
          ]
        }
      ],
      "source": [
        "# Crie a variável que represente o capital inicial\n",
        "savings = 100\n",
        "\n",
        "# Crie a variável growth_multiplier\n",
        "growth_multiplier = 1.1\n",
        "\n",
        "# Crie a variável que contenha o período de investimento (em anos)\n",
        "time_investing = 25\n",
        "\n",
        "# Calcule o resultado\n",
        "result = savings * growth_multiplier ** time_investing\n",
        "\n",
        "# Printe o resultado\n",
        "print(\"O montante acumulado por\", name, \"ao longo de\", time_investing, \"anos foi de\", result, \"reais!\")"
      ]
    },
    {
      "cell_type": "markdown",
      "metadata": {
        "id": "4qKaD7WKb6fB"
      },
      "source": [
        "#### 2.7.3. Outros Tipos de Variáveis\n",
        "Nas seções anteriores, nós lidamos com números inteiros, números não-inteiros e strings (textos). Esses são alguns de muitos [tipos de dados do Python](https://docs.python.org/3/library/datatypes.html), mas existem quatro principais tipos de dados:\n",
        "\n",
        "- **int**: números inteiros. Ex: 0, 100, -3, etc;\n",
        "- **float**: um número que possui tanto uma parte inteira quanto uma parte fracionária, separada por uma casa decimal (representara por um ponto .). Ex: 0.5, 0.33, -0.1, etc;\n",
        "- **str**: também chamada de string, é um tipo que representa texto. Você pode utilizar tanto aspas simples quantos aspas duplas para construir uma string. Ex: \"Hi\", 'Hello'\n",
        "- **bool**: representa valores lógicos e só pode assumir dois valores, *True* ou *False*."
      ]
    },
    {
      "cell_type": "code",
      "execution_count": null,
      "metadata": {
        "id": "OepIKbL6b6fC"
      },
      "outputs": [],
      "source": [
        "#Integer (int)\n",
        "integer_number = 1\n",
        "\n",
        "#Floating point (float)\n",
        "float_number = 1.0\n",
        "\n",
        "#String (str)\n",
        "text = \"Hello\"\n",
        "\n",
        "#Boolean (bool)\n",
        "python_is_fun = True"
      ]
    },
    {
      "cell_type": "markdown",
      "metadata": {
        "id": "HWItz3-gb6fC"
      },
      "source": [
        "Para descobrir o tipo de um valor ou da variável que se refere àquele valor, você pode usar a função type()!"
      ]
    },
    {
      "cell_type": "code",
      "execution_count": null,
      "metadata": {
        "id": "Bgzs4KXwb6fC",
        "colab": {
          "base_uri": "https://localhost:8080/"
        },
        "outputId": "d9158868-f96f-4fc2-fc99-f9960e8dc5c9"
      },
      "outputs": [
        {
          "output_type": "stream",
          "name": "stdout",
          "text": [
            "<class 'int'>\n",
            "<class 'float'>\n",
            "<class 'str'>\n",
            "<class 'bool'>\n"
          ]
        }
      ],
      "source": [
        "#Variable types\n",
        "print(type(integer_number))\n",
        "print(type(float_number))\n",
        "print(type(text))\n",
        "print(type(python_is_fun))"
      ]
    },
    {
      "cell_type": "markdown",
      "metadata": {
        "id": "HS6ucj5Rb6fC"
      },
      "source": [
        "Mas como o Python assimila o tipo de uma variável? Bem, ele infere a partir do valor atribuído àquela variável. Essas linguagens de programação são conhecidas como [loosely typed programming languages](https://en.wikipedia.org/wiki/Strong_and_weak_typing)."
      ]
    },
    {
      "cell_type": "markdown",
      "metadata": {
        "id": "_nUKkcpZb6fD"
      },
      "source": [
        "#### 2.7.4. Operações com outros Tipos\n",
        "Como nós já falamos, existem vários tipos de operação que você pode fazer. Em Python, o tipo do operando afeta os outputs das operações e suas viabilidades! Vamos tentar algumas combinações diferentes!"
      ]
    },
    {
      "cell_type": "code",
      "execution_count": null,
      "metadata": {
        "id": "sRvEnajbb6fD",
        "colab": {
          "base_uri": "https://localhost:8080/"
        },
        "outputId": "eb2fb2b8-1506-48ce-e53e-2ef29680c014"
      },
      "outputs": [
        {
          "output_type": "stream",
          "name": "stdout",
          "text": [
            "1\n",
            "O nome do meu amigo é João\n",
            "101\n",
            "109.9\n"
          ]
        }
      ],
      "source": [
        "# Adição\n",
        "print(True + False)\n",
        "print (\"O nome do meu amigo é \" + \"João\")\n",
        "print(True + 100)\n",
        "print(100 + 9.9)"
      ]
    },
    {
      "cell_type": "code",
      "execution_count": null,
      "metadata": {
        "id": "UreNYerKb6fD",
        "colab": {
          "base_uri": "https://localhost:8080/"
        },
        "outputId": "0bbcb9dc-5c0b-4235-87ea-d581fdadcbd2"
      },
      "outputs": [
        {
          "output_type": "stream",
          "name": "stdout",
          "text": [
            "1\n",
            "0\n",
            "Tuntz Tuntz Tuntz Tuntz Tuntz Tuntz Tuntz Tuntz Tuntz Tuntz \n",
            "HiHi\n"
          ]
        }
      ],
      "source": [
        "# Multiplicação\n",
        "print(True * True)\n",
        "print(101 * False)\n",
        "print(\"Tuntz \" * 10)\n",
        "print(\"Hi\" * (True+True))"
      ]
    },
    {
      "cell_type": "code",
      "execution_count": null,
      "metadata": {
        "id": "6oXqPWiub6fD",
        "colab": {
          "base_uri": "https://localhost:8080/"
        },
        "outputId": "665bc150-9554-44c3-a1b4-38a90823625c"
      },
      "outputs": [
        {
          "output_type": "stream",
          "name": "stdout",
          "text": [
            "1\n",
            "1\n"
          ]
        }
      ],
      "source": [
        "# Exponenciação\n",
        "print(True**9999)\n",
        "print(100 ** False)"
      ]
    },
    {
      "cell_type": "markdown",
      "metadata": {
        "id": "JMXx_gxGb6fE"
      },
      "source": [
        "#### 2.7.5. Conversão de Tipo\n",
        "Se você tentou fazer diferentes combinações no exercício anterior, você deve ter visto alguns erros, mas não tem problema!\n",
        "Vamos observar o código abaixo (apenas tenha certeza que você já atribuiu os valores dessas variáveis neste notebook)!"
      ]
    },
    {
      "cell_type": "code",
      "execution_count": null,
      "metadata": {
        "id": "V9R2eAR9b6fE",
        "colab": {
          "base_uri": "https://localhost:8080/",
          "height": 182
        },
        "outputId": "fc3ed25a-2a74-4924-e7bd-c52dd2c813b2"
      },
      "outputs": [
        {
          "output_type": "error",
          "ename": "TypeError",
          "evalue": "ignored",
          "traceback": [
            "\u001b[0;31m---------------------------------------------------------------------------\u001b[0m",
            "\u001b[0;31mTypeError\u001b[0m                                 Traceback (most recent call last)",
            "\u001b[0;32m<ipython-input-30-726775e026a0>\u001b[0m in \u001b[0;36m<module>\u001b[0;34m()\u001b[0m\n\u001b[1;32m      1\u001b[0m \u001b[0;31m#Printe com erro\u001b[0m\u001b[0;34m\u001b[0m\u001b[0;34m\u001b[0m\u001b[0;34m\u001b[0m\u001b[0m\n\u001b[0;32m----> 2\u001b[0;31m \u001b[0mprint\u001b[0m\u001b[0;34m(\u001b[0m\u001b[0;34m\"Eu comecei com $\"\u001b[0m \u001b[0;34m+\u001b[0m \u001b[0msavings\u001b[0m \u001b[0;34m+\u001b[0m \u001b[0;34m\" e agora eu tenho $\"\u001b[0m \u001b[0;34m+\u001b[0m \u001b[0mresult\u001b[0m \u001b[0;34m+\u001b[0m \u001b[0;34m\". Ótimo!!\"\u001b[0m\u001b[0;34m)\u001b[0m\u001b[0;34m\u001b[0m\u001b[0;34m\u001b[0m\u001b[0m\n\u001b[0m",
            "\u001b[0;31mTypeError\u001b[0m: can only concatenate str (not \"int\") to str"
          ]
        }
      ],
      "source": [
        "#Printe com erro\n",
        "print(\"Eu comecei com $\" + savings + \" e agora eu tenho $\" + result + \". Ótimo!!\")"
      ]
    },
    {
      "cell_type": "markdown",
      "metadata": {
        "id": "5m9xtkUxb6fE"
      },
      "source": [
        "No exemplo acima, se você olhar para a mensagem de erro, verá que foi um *TypeError*. Nós não vamos entrar nesses detalhes agora, mas você pode assumir que esse erro é causado pelo tipo de uma ou mais variáveis/valores que tentamos printar. Neste caso, nós tentamos adicionar uma string a um número e isso não é permitido nas regras da sintaxe do Python. Seria maneiro se fosse possível fazer isso, não seria? \n",
        "\n",
        "Para consertar esse erro, nós precisamos explicitamente converter os tipos das variáveis. Mais especificamente, nós precisaremos da função [str()](https://docs.python.org/3/library/functions.html#func-str) para converter um valor para uma string. *str(savings)*, por exemplo, vai converter o float *savings* para uma string."
      ]
    },
    {
      "cell_type": "code",
      "execution_count": null,
      "metadata": {
        "id": "7j_GAF3rb6fF",
        "colab": {
          "base_uri": "https://localhost:8080/"
        },
        "outputId": "9007fd92-a1e0-4d66-9ffa-9b80bee55301"
      },
      "outputs": [
        {
          "output_type": "stream",
          "name": "stdout",
          "text": [
            "Eu comecei com $100 e agora eu tenho $1083.4705943388394. Ótimo!!\n"
          ]
        }
      ],
      "source": [
        "# print correto\n",
        "print(\"Eu comecei com $\" + str(savings) + \" e agora eu tenho $\" + str(result) + \". Ótimo!!\")"
      ]
    },
    {
      "cell_type": "markdown",
      "metadata": {
        "id": "u_vk-pOOb6fF"
      },
      "source": [
        "Outras funções de conversão de tipo:\n",
        "[int()](https://docs.python.org/3/library/functions.html#int), [float()](https://docs.python.org/3/library/functions.html#float) e [bool()](https://docs.python.org/3/library/functions.html#bool) vão ajudar você a converter valores para qualquer tipo!"
      ]
    },
    {
      "cell_type": "markdown",
      "metadata": {
        "id": "YvC7NHIZ2Tt-"
      },
      "source": [
        "#### Exercício 2.8 (SUA VEZ)\n",
        "\n",
        "Printe uma mensagem simples utilizando todos os tipos de variáveis do exemplo acima:"
      ]
    },
    {
      "cell_type": "code",
      "execution_count": null,
      "metadata": {
        "id": "TJhEoAv02Tt-"
      },
      "outputs": [],
      "source": [
        "#Variáveis\n",
        "integer = 1\n",
        "float_number = 3.1415\n",
        "string = \"3\"\n",
        "boolean = True\n",
        "\n",
        "#Printe uma mensagem simples usando as quatro variáveis atribuídas acima\n"
      ]
    },
    {
      "cell_type": "markdown",
      "metadata": {
        "id": "BHiCD6Ksb6fG"
      },
      "source": [
        "### 2.8. Estruturas de decisão\n",
        "Até agora, todos os exemplos seguiram um fluxo contínuo, onde todas as linhas de código de uma mesma célula foram executadas. Entretanto, em aplicações reais, isso raramente é o que acontece e, nesses casos, nós temos que usar o que chamamos de **estruturas de decisão** para redirecionar o fluxo de execução baseado em critérios condicionais que guiam o programa. Para fazer isso no Python, nós usamos **if**, **else** e **elif** statements, que possuem a seguinte estrutura genérica:"
      ]
    },
    {
      "cell_type": "code",
      "execution_count": null,
      "metadata": {
        "id": "fConY7ctb6fH"
      },
      "outputs": [],
      "source": [
        "#if(logical condition 1 ):\n",
        "#    executes this block of code if logical conditional 1 is true\n",
        "#    block of code\n",
        "#    block of code\n",
        "#elif(logical condition 2):\n",
        "#    executes this block of code if logical conditional 2 is true\n",
        "#    block of code\n",
        "#    block of code\n",
        "#elif(logical condition 3):\n",
        "#    executes this block of code if logical conditional 3 is true\n",
        "#    block of code\n",
        "#    block of code\n",
        "#         .\n",
        "#         .\n",
        "#         .\n",
        "#else:\n",
        "#    executes this block of code if none of the previous logical conditions were True\n",
        "#    block of code\n",
        "#    block of code"
      ]
    },
    {
      "cell_type": "markdown",
      "metadata": {
        "id": "X8Rso9NHb6fH"
      },
      "source": [
        "Antes que continuemos, é importante observar que, no Python, não existe nenhum caractere que indique um bloco de código, como há em muitas outras linguagens de programação (comumente o ;). Na verdade, o que o Python considera como o início de um novo bloco de código está baseado apenas na **indentação/tabulação** do código!!! **Isso é muito importante para o Python! Preste sempre atenção na indentação dos seus scripts, pois um tab a mais (ou a menos) pode mudar toda a lógica do seu código!** No mundo dos negócios, não queremos que um erro causado por isso gere um resultado catrastrófico, não é mesmo?\n",
        "\n",
        "Observe a seguinte imagem e exemplo abaixo:\n",
        "![Identation](https://i.imgur.com/qQ6zBHk.png)"
      ]
    },
    {
      "cell_type": "code",
      "execution_count": null,
      "metadata": {
        "id": "eizP663Qb6fI"
      },
      "outputs": [],
      "source": [
        "#Programa que diz se um aluno vai passar na disciplina, dada a sua nota final\n",
        "grade = 6 # Nota final do aluno\n",
        "\n",
        "#Estrutura de decisão/lógica\n",
        "if (grade >= 7):\n",
        "    print(\"Aprovado!\")\n",
        "elif ((grade < 7) & (grade >= 5)):\n",
        "    print(\"Recuperação\")\n",
        "else:\n",
        "    print(\"Reprovado!\")"
      ]
    },
    {
      "cell_type": "markdown",
      "metadata": {
        "id": "WhBSEQxbb6fI"
      },
      "source": [
        "#### Exercício 2.9 (SUA VEZ)\n",
        "\n",
        "Baseado no exemplo acima e sabendo que a nota final deve ser maior que 7 **e** a presença nas aulas deve ser maior que 70% para um aluno ser aprovado diretamente, e que para um aluno ter direito a recuperação, é necessário que sua nota seja maior ou igual a 5 **e** sua presença seja ao menos 50%, modifique o código abaixo para que ele leve em conta a condição de presença de aulas do aluno. Não se esqueça de printar o resultado!"
      ]
    },
    {
      "cell_type": "code",
      "execution_count": null,
      "metadata": {
        "id": "v9LepGyub6fJ"
      },
      "outputs": [],
      "source": [
        "#Programa que diz se um aluno vai passar na disciplina, dada a sua nota final\n",
        "grade = 6 # Nota final do aluno\n",
        "attendance = 51\n",
        "\n",
        "#Estrutura de decisão/lógica\n",
        "if ((grade >= 7) & ()):\n",
        "    print(\"Aprovado!\")\n",
        "elif ((grade < 7) & (grade >= 5) & ()):\n",
        "    print(\"Recuperação\")\n",
        "else:\n",
        "    print(\"Reprovado!\")"
      ]
    },
    {
      "cell_type": "markdown",
      "metadata": {
        "id": "UxnbA6Gmb6fJ"
      },
      "source": [
        "### 2.9. Estruturas de laço (Looping structures)\n",
        "\n",
        "Na seção anterior, introduzimos o conceito em que você pode determinar quais blocos de código serão executados baseado em critérios condicionais. Entretanto, em muitas ocasiões, queremos continuar fazendo esses testes condicionais para ver se o sistema está mudando com o tempo. Existe, então, dois tipos de estruturas de laço: o ```while``` e o ```for```.\n",
        "\n",
        "#### 2.9.1. **While**\n",
        "\n",
        "O comando while continua em loop enquanto a condição de teste continua retornando True."
      ]
    },
    {
      "cell_type": "code",
      "execution_count": null,
      "metadata": {
        "id": "_X_J08eEb6fK"
      },
      "outputs": [],
      "source": [
        "#Variável contadora\n",
        "counter = 1\n",
        "\n",
        "#While loop\n",
        "while counter <= 3: #Testa se counter <= 3. Se True, executa o bloco de código. Caso contrário, sai do loop\n",
        "    print(counter)\n",
        "    counter = counter + 1"
      ]
    },
    {
      "cell_type": "markdown",
      "metadata": {
        "id": "CWcuRwf8b6fK"
      },
      "source": [
        "#### 2.9.2. For\n",
        "Esse comando executa o loop por um determinado número de vezes. Normalmente, utiliza-se a função **range** para determinar quantos loops serão executados."
      ]
    },
    {
      "cell_type": "code",
      "execution_count": null,
      "metadata": {
        "id": "bt2x19I1b6fK"
      },
      "outputs": [],
      "source": [
        "#range(start, stop)\n",
        "selected_range = range(1,4)\n",
        "print(\"Selected range = \", *selected_range) #O operador * \"desempacota\" a sequência previamente definida\n",
        "\n",
        "#For loop\n",
        "for counter in selected_range:\n",
        "    print(counter)"
      ]
    },
    {
      "cell_type": "markdown",
      "metadata": {
        "id": "r3EcvJS0b6fL"
      },
      "source": [
        "#### 2.9.3. Interruptions\n",
        "É possível interromper a execução de um loop com os seguintes comandos:\n",
        "- **break**: cancela o loop\n",
        "- **continue** : recomeça o loop a partir do próximo contador"
      ]
    },
    {
      "cell_type": "code",
      "execution_count": null,
      "metadata": {
        "id": "mZ36QSBOb6fL"
      },
      "outputs": [],
      "source": [
        "#For loop\n",
        "for counter in range(1,11):\n",
        "    if counter == 7:\n",
        "        break; #Para o looping quando counter == 7\n",
        "    print(counter)"
      ]
    },
    {
      "cell_type": "code",
      "execution_count": null,
      "metadata": {
        "id": "_FG5yhStb6fM"
      },
      "outputs": [],
      "source": [
        "#For loop\n",
        "for counter in range(1,11):\n",
        "    if counter == 7:\n",
        "        continue; #Pula o loop quando counter == 7\n",
        "    print(counter)"
      ]
    },
    {
      "cell_type": "markdown",
      "metadata": {
        "id": "Uf1EU-RVb6fM"
      },
      "source": [
        "#### Exercício 2.10 (SUA VEZ)\n",
        "\n",
        "Baseado no que você acabou de aprender, printe apenas os números múltiplos de 100, iterando o contador num range de 1 a 1000."
      ]
    },
    {
      "cell_type": "code",
      "execution_count": null,
      "metadata": {
        "deletable": false,
        "exid": "2.10",
        "id": "IHtEsZKxb6fM"
      },
      "outputs": [],
      "source": [
        "#Escreva sua resposta aqui\n",
        "\n"
      ]
    },
    {
      "cell_type": "markdown",
      "metadata": {
        "id": "n3aWjlyPy1BF"
      },
      "source": [
        "<a name=\"datatypes\"></a>\n",
        "## 3. Python Datatypes\n",
        "Um datatype, ou estrutura de dados (data structure), é uma forma de **organizar e guardar seus dados**. Existem várias estruturas de dados diferentes e algumas delas já vêm disponíveis no Python. Vamos apresentar algumas bem importantes, como strings, dicionários, tuplas, listas e sets. <br>\n",
        "**Dica**: você pode checar o tipo de variável utilizando o comando: ```type(var)```\n"
      ]
    },
    {
      "cell_type": "code",
      "execution_count": null,
      "metadata": {
        "id": "t9xCuUYB-lWz"
      },
      "outputs": [],
      "source": [
        "my_var=1\n",
        "print(type(my_var))"
      ]
    },
    {
      "cell_type": "markdown",
      "metadata": {
        "id": "wQl7q_oYU8Hh"
      },
      "source": [
        "\n",
        "### 3.1. Strings\n",
        "Strings são simplesmente uma **sequência de caracteres**. Para declará-los, você apenas deve colocá-los entre aspas simples ou duplas (e.g. ```\"Hello world!\"```).<br>\n",
        "Já existem algumas **operações e métodos built-in** que você pode realizar em strings (inclusive, você já aprendeu como concatenar duas strings com o operador +). Você aprenderá mais sobre o que são métodos e funções nas próximas seções.\n"
      ]
    },
    {
      "cell_type": "code",
      "execution_count": null,
      "metadata": {
        "id": "csE_jpu0y1BG"
      },
      "outputs": [],
      "source": [
        "# Tente você mesmo\n",
        "\n",
        "text = \"Hello world!\"\n",
        "print(text)\n",
        "print(type(text)) # str é o acrônimo de \"string\""
      ]
    },
    {
      "cell_type": "markdown",
      "metadata": {
        "id": "r-4d6HeH_SGn"
      },
      "source": [
        "Você pode também converter números (inteiros ou float) em strings para utilizá-los em um texto"
      ]
    },
    {
      "cell_type": "code",
      "execution_count": null,
      "metadata": {
        "id": "wddHQMU5_isx"
      },
      "outputs": [],
      "source": [
        "my_str='Minha idade é: '\n",
        "my_age=   # Preencha sua idade aqui\n",
        "print(my_str + my_age)"
      ]
    },
    {
      "cell_type": "markdown",
      "metadata": {
        "id": "2qG-dknN_1FG"
      },
      "source": [
        "Se você tentou rodar a célula acima, o Python não permitiu que uma string fosse somada à um numero. Para tal operação é necessário primeiro converter o número em string utilizando a função ```str()```."
      ]
    },
    {
      "cell_type": "code",
      "execution_count": null,
      "metadata": {
        "id": "3HOx3ZQbANcc"
      },
      "outputs": [],
      "source": [
        "# Tente printar sua idade abaixo, agora utilizando a função str()\n",
        "my_str='Minha idade é: '\n",
        "my_age=   # Preencha sua idade aqui\n",
        "print()"
      ]
    },
    {
      "cell_type": "markdown",
      "metadata": {
        "id": "sZyZtk42y1BG"
      },
      "source": [
        "\n",
        "#### Exercício 3.1 (SUA VEZ)\n",
        "1. Tente utilizar o operador '*' entre uma string e um integer\n",
        "2. Existe alguma forma fácil de **checar se uma palavra está contida** numa string? Claro! Tente o seguinte comando: ```'world' in 'Hello world!'```\n"
      ]
    },
    {
      "cell_type": "code",
      "execution_count": null,
      "metadata": {
        "id": "vtRUt9u2y1BG"
      },
      "outputs": [],
      "source": [
        "# Sua resposta a seguir\n"
      ]
    },
    {
      "cell_type": "markdown",
      "metadata": {
        "id": "4kW_dSVMVZ9z"
      },
      "source": [
        "\n",
        "Já que strings são uma sequência de caracteres, é possível **acessá-los** individualmente pelos seus **índices (index)** (que, em Python, **começam a partir de 0**.). Digamos que você queira acessar o terceiro valor. Você precisaria, então, digitar ```text[2]```. <br>\n",
        "**Agora, tente acessar a letra r na string ```text``` pelo seu índice.**"
      ]
    },
    {
      "cell_type": "code",
      "execution_count": null,
      "metadata": {
        "id": "tQSaI_BvVcbK"
      },
      "outputs": [],
      "source": [
        "# Sua resposta a seguir\n"
      ]
    },
    {
      "cell_type": "markdown",
      "metadata": {
        "id": "DUQMlNVxy1BG"
      },
      "source": [
        "Os **métodos built-in implementam operações muito úteis** como mudar letras maiúsculas/minúsculas, dividir palavras, etc. Explore a documentação padrão de [built-in types in Python](https://docs.python.org/3/library/stdtypes.html) para mais informações.\n",
        "\n",
        "#### Exercício 3.2 (SUA VEZ)\n",
        "Tente entender os exemplos abaixo e, com a documentação já especificada (no [link acima](https://docs.python.org/3/library/stdtypes.html)), procure por uma função built-in que seja capaz de substituir os espaços em branco por underscores ( _ ) e faça essa operação no último exemplo."
      ]
    },
    {
      "cell_type": "code",
      "execution_count": null,
      "metadata": {
        "id": "3RrWsZLyb6fX"
      },
      "outputs": [],
      "source": [
        "# Capitalize text\n",
        "text = \"eXaMpLE tExT.\"\n",
        "print(text.capitalize())\n",
        "\n",
        "# Formatação de strings com variáveis como texto\n",
        "mult = 2*1\n",
        "text = \"The sum of 1 + 2 is {0} and 1 * 2 is {1}\".format(1+2, mult)\n",
        "print(text)\n",
        "\n",
        "# Split de string\n",
        "print(text.split())"
      ]
    },
    {
      "cell_type": "code",
      "execution_count": null,
      "metadata": {
        "deletable": false,
        "exid": "3.2",
        "id": "OlRb3R-ny1BG"
      },
      "outputs": [],
      "source": [
        "#Substitua os espaços em branco deste ultimo exemplo por underscores (_) e printe o resultado\n",
        "\n",
        "text = \"The white spaces in this string must be replaced by underscores.\"\n",
        "# Output esperado: \"The_white_spaces_must_be_replaced_by_underscores.\"\n",
        "# Sua resposta a seguir\n"
      ]
    },
    {
      "cell_type": "markdown",
      "metadata": {
        "id": "OfWiuAmLAec5"
      },
      "source": [
        "#### Exercício 3.3 (SUA VEZ)\n",
        "Uma aplicação particularmente útil de strings é quando são utilizadas para montar queries de extração de dados (i.e. linguagem SQL).\n",
        "Para evitar diversas operações de soma com strings, o Python permite o uso de **f-strings**, que automaticamente formatam espaços pré determinados de uma string."
      ]
    },
    {
      "cell_type": "code",
      "execution_count": null,
      "metadata": {
        "id": "auLlXqYGBeBO",
        "colab": {
          "base_uri": "https://localhost:8080/"
        },
        "outputId": "09f636a7-0718-4575-eada-a7061e9343d3"
      },
      "outputs": [
        {
          "output_type": "stream",
          "name": "stdout",
          "text": [
            "SELECT Nome FROM Alunos\n"
          ]
        }
      ],
      "source": [
        "sql_table='Alunos'\n",
        "sql_column='Nome'\n",
        "my_query=f'SELECT {sql_column} FROM {sql_table}'\n",
        "print(my_query)"
      ]
    },
    {
      "cell_type": "markdown",
      "metadata": {
        "id": "PoA-KA9DCOfo"
      },
      "source": [
        "Muitas vezes quando estamos escrevendo queries ou até mesmo textos, é necessário utilizar caracteres especiais, em particular os delimitadores de string **\"** e **'**.\n",
        "Para que seja possível utilizar estes caracteres sem delimitar a sua string, o Python oferece o caracter **Escape (\\\\)**."
      ]
    },
    {
      "cell_type": "code",
      "execution_count": null,
      "metadata": {
        "id": "MOEKvZtiC7g5",
        "colab": {
          "base_uri": "https://localhost:8080/"
        },
        "outputId": "b048db0e-bec9-45ca-ad84-b755abf75482"
      },
      "outputs": [
        {
          "output_type": "stream",
          "name": "stdout",
          "text": [
            "Colocando aspas duplas do seu texto utilizando o caracter \"Escape\"\n"
          ]
        }
      ],
      "source": [
        "print(\"Colocando aspas duplas do seu texto utilizando o caracter \\\"Escape\\\"\")"
      ]
    },
    {
      "cell_type": "markdown",
      "metadata": {
        "id": "j6M__2FxDO76"
      },
      "source": [
        "Tente escrever a query SQL a seguir utilizando f-strings e o caracter escape:\n",
        "\n",
        "```SELECT Nome,Cidade FROM Alunos WHERE Cidade = \"Rio de Janeiro\"```"
      ]
    },
    {
      "cell_type": "code",
      "execution_count": null,
      "metadata": {
        "id": "OYQ2F9sNEAxg"
      },
      "outputs": [],
      "source": [
        "# Sua resposta a seguir\n",
        "\n"
      ]
    },
    {
      "cell_type": "markdown",
      "metadata": {
        "id": "8OffPRqay1BG"
      },
      "source": [
        "### 3.2. Dicionários\n",
        "Um dicionário é uma estrutura **realmente importante e útil** que é:\n",
        "1. **não ordenada**: a ordem em que você declara os valores não é necessariamente a ordem na qual os valores são gravados\n",
        "2. **mutável**: você pode mudar seus valores\n",
        "3. **indexada**: você pode acessar diretamente o valor de cada elemento do dicionário\n",
        "\n",
        "Em Python, dictionários são escrito com chaves ```{}```, e eles possuem **chaves (keys)** e **valores (values)**. <br>\n",
        "**Exemplo**:\n",
        "```\n",
        "population = {'SP': 45538936, 'RJ': 17159960, 'MG': 21040662, 'BA': 2}\n",
        "```\n",
        "Aqui, cada **UF** representa uma **chave** e sua **população** é associada ao **valor**. <br>\n",
        "Agora, digamos que você queira saber a população de SP, então ```population['SP']``` lhe retornaria o resultado.\n",
        "\n",
        "Obs.: Você pode, facilmente, **listar todas as chaves e valores** com os seguintes métodos built-in: **```population.keys()```, ```population.values()``` e ```population.items()```**\n",
        "\n",
        "O método **items()** difere dos 2 anteriores pois retorna dois iteráveis, um com as chaves e um com os valores do dicionário, sendo necessário atribuí-los à duas variáveis distintas quando utiizado em qualquer contexto.\n",
        "\n"
      ]
    },
    {
      "cell_type": "code",
      "execution_count": null,
      "metadata": {
        "id": "cfQPc7kqJUqi"
      },
      "outputs": [],
      "source": [
        "dict_idades={'João':12,'André': 23,'Maria':22, 'Isabela':16}\n",
        "for chave, valor in dict_idades.items():\n",
        "  print(f'{chave} tem {valor} anos de idade')"
      ]
    },
    {
      "cell_type": "markdown",
      "metadata": {
        "id": "GoX-HTPJJR9a"
      },
      "source": [
        "#### Exercício 3.4 (SUA VEZ)\n",
        "Acho que Bahia possui mais de 2 habitantes, né?\n",
        "\n",
        "Tente corrigir o valor da Bahia, cuja população é 14812617."
      ]
    },
    {
      "cell_type": "code",
      "execution_count": null,
      "metadata": {
        "deletable": false,
        "exid": "3.4",
        "id": "nvKja6Ody1BG"
      },
      "outputs": [],
      "source": [
        "population = {'SP': 45538936, 'RJ': 17159960, 'MG': 21040662, 'BA': 2}\n",
        "\n",
        "# Sua resposta a seguir\n"
      ]
    },
    {
      "cell_type": "markdown",
      "metadata": {
        "id": "O1CBGdfny1BG"
      },
      "source": [
        "Se você utilizar a mesma sintaxe para acessar uma **chave não existente** e atribuir um valor a ela, você **adicionará** outro par chave-valor ao seu dicionário.\n",
        "\n",
        "#### Exercício 3.5 (SUA VEZ)\n",
        "Agora, tente adicionar Paraná ao nosso dicionário. Use as seguintes variáveis para fazer isso."
      ]
    },
    {
      "cell_type": "code",
      "execution_count": null,
      "metadata": {
        "deletable": false,
        "exid": "3.5",
        "id": "OlYO47b8y1BH"
      },
      "outputs": [],
      "source": [
        "state = 'PR'\n",
        "pop = 11348937\n",
        "\n",
        "# Sua resposta a seguir\n"
      ]
    },
    {
      "cell_type": "code",
      "execution_count": null,
      "metadata": {
        "id": "5mlXW2sLy1BH"
      },
      "outputs": [],
      "source": [
        "# Verifique o resultado do dicionário\n",
        "# Os elementos estão na mesma ordem que você previamente os declarou?\n",
        "population"
      ]
    },
    {
      "cell_type": "markdown",
      "metadata": {
        "id": "sCM59k_cy1BH"
      },
      "source": [
        "#### Exercício 3.6 (SUA VEZ)\n",
        "Usando um loop **for** e o método built-in **keys()**, printe todas as chaves do dicionário ```population``` e seus respectivos valores."
      ]
    },
    {
      "cell_type": "code",
      "execution_count": null,
      "metadata": {
        "id": "Qqb2l-Nqy1BH"
      },
      "outputs": [],
      "source": [
        "# Sua resposta a seguir\n"
      ]
    },
    {
      "cell_type": "markdown",
      "metadata": {
        "id": "by3cAhELIibx"
      },
      "source": [
        "Usando um loop **for** e o método built-in **items()**, printe todas as chaves do dicionário ```population``` e seus respectivos valores, bem como, ao final, printe a somatória das populações"
      ]
    },
    {
      "cell_type": "code",
      "execution_count": null,
      "metadata": {
        "id": "hKjENBxHIwfY"
      },
      "outputs": [],
      "source": [
        "# Sua resposta a seguir\n"
      ]
    },
    {
      "cell_type": "markdown",
      "metadata": {
        "id": "RViZrUrwy1BH"
      },
      "source": [
        "### 3.3. Tuplas (Tuples)\n",
        "Uma tupla é uma estrutura não ordenada e imutável. Também é possível guardar **diferentes tipos de dados (data types)** na mesma tupla. <br>\n",
        "Além disso, elas têm funções built-in e sua indexação é feita da mesma forma como nas strings.\n",
        "\n",
        "**Qual é a diferença entre a e b no código a seguir?**<br>\n",
        "Depois de pensar sobre a resposta, remova os comentários e execute a célula. Não é necessário escrever a resposta neste exercício."
      ]
    },
    {
      "cell_type": "code",
      "execution_count": null,
      "metadata": {
        "id": "DLFhhCfwy1BH"
      },
      "outputs": [],
      "source": [
        "a = (1, 'One', True)\n",
        "a = (a, 2)\n",
        "\n",
        "b = (1, 'One', True, 2)\n",
        "\n",
        "#print(a)\n",
        "#print(b)"
      ]
    },
    {
      "cell_type": "markdown",
      "metadata": {
        "id": "v1yLPbg7y1BH"
      },
      "source": [
        "#### Prática:\n",
        "Lembra-se do operador ```in``` que usamos na seção de strings? Veja a utilização dele aqui com as tuplas ```a``` e ```b```!"
      ]
    },
    {
      "cell_type": "code",
      "execution_count": null,
      "metadata": {
        "id": "tUl4cIrSy1BH",
        "colab": {
          "base_uri": "https://localhost:8080/"
        },
        "outputId": "cbff0984-c09b-442e-e055-42ad134eae31"
      },
      "outputs": [
        {
          "output_type": "stream",
          "name": "stdout",
          "text": [
            "False\n"
          ]
        }
      ],
      "source": [
        "print(a in b)"
      ]
    },
    {
      "cell_type": "markdown",
      "metadata": {
        "id": "V-o0sG2Ey1BH"
      },
      "source": [
        "#### Exercício 3.7 (SUA VEZ)\n",
        "\n",
        "Por que ```'One'``` não é um elemento de ```a```?"
      ]
    },
    {
      "cell_type": "code",
      "execution_count": null,
      "metadata": {
        "id": "xT3vRr--y1BI"
      },
      "outputs": [],
      "source": [
        "# Sua resposta aqui\n",
        "# "
      ]
    },
    {
      "cell_type": "markdown",
      "metadata": {
        "id": "EbL_ViyDy1BI"
      },
      "source": [
        "### 3.4. Listas (Lists)\n",
        "Listas também são uma estrutura **realmente importante e útil** em Python. Elas são criadas da mesma forma que tuplas, mas com colchetes, ```[]```. <br>\n",
        "Listas também são indexadas e têm funções built-in similares a strings e tuplas. Elas se diferem das tuplas porque são **mutáveis (valores ou tamanho)**.\n",
        "\n",
        "Aqui, iremos aprender sobre **negative indexing** e **slicing**, mas esses conceitos também podem ser aplicados a strings e tuplas. Além disso, vamos ver uma forma muito elegante de se criar listas, através do que chamamos de **List Comprehension**.\n",
        "\n",
        "#### 3.4.1. Básico"
      ]
    },
    {
      "cell_type": "code",
      "execution_count": null,
      "metadata": {
        "id": "3FDxS8V-y1BI"
      },
      "outputs": [],
      "source": [
        "# Criando uma lista\n",
        "my_list = [5,1,7]\n",
        "print(my_list)\n",
        "\n",
        "# Adicionando elementos (método append)\n",
        "my_list.append(2)\n",
        "print(my_list)\n",
        "\n",
        "# Removendo elementos\n",
        "del(my_list[1])\n",
        "print(my_list)\n",
        "\n",
        "# Concatenação\n",
        "my_list = my_list + [-1, -2, -5]\n",
        "print(my_list)\n",
        "\n",
        "# Extensão\n",
        "my_second_list=[-10,-20]\n",
        "my_list.extend(my_second_list)\n",
        "print(my_list)\n",
        "\n",
        "# in clause\n",
        "print(2 in my_list)"
      ]
    },
    {
      "cell_type": "code",
      "execution_count": null,
      "metadata": {
        "id": "D9Dfpdk4y1BI"
      },
      "outputs": [],
      "source": [
        "# Execute esta célula antes de continuar a aula\n",
        "my_list = [5,1,7,1,8,4,2,0,1,3]"
      ]
    },
    {
      "cell_type": "markdown",
      "metadata": {
        "id": "XsK5WLrRy1BI"
      },
      "source": [
        "#### 3.4.2. Negative indexing\n",
        "Python permite fazer negative indexing, o que irá acessar os elementos da lista (ou tuplas, ou strings) partindo do último elemento para o primeiro. <br>"
      ]
    },
    {
      "cell_type": "code",
      "execution_count": null,
      "metadata": {
        "id": "Fll_ThS2y1BI"
      },
      "outputs": [],
      "source": [
        "print(\"Último elemento da lista: \", my_list[-1])\n",
        "print(\"Penúltimo elemento da lista: \", my_list[-2])"
      ]
    },
    {
      "cell_type": "markdown",
      "metadata": {
        "id": "SXRZxwx0y1BI"
      },
      "source": [
        "#### Exercício 3.8 (SUA VEZ)\n",
        "Acesse o sétimo valor da lista (i.e. o valor 2) utilizando indexação negativa."
      ]
    },
    {
      "cell_type": "code",
      "execution_count": null,
      "metadata": {
        "id": "ZFfWAUzcy1BI"
      },
      "outputs": [],
      "source": [
        "# Sua resposta a seguir\n"
      ]
    },
    {
      "cell_type": "markdown",
      "metadata": {
        "id": "ZXTvXAZCy1BI"
      },
      "source": [
        "#### 3.4.3. Slicing\n",
        "Slicing é um **conceito muito importante** e nós vamos utilizá-lo bastante a partir de agora. É muito útil quando você quer fatiar sua sequência para **extrair elementos de certo intervalo** especificado pela seguinte sintaxe: \n",
        "<br><center>*(start index)* : *(end index)* : *(step)*</center> <br>\n",
        "onde **start index está incluído** e **end index está excluído**. Todos esses argumentos são opcionais e possuem valores *default*.\n",
        "\n",
        "Execute a célula seguinte e veja os resultados:"
      ]
    },
    {
      "cell_type": "code",
      "execution_count": null,
      "metadata": {
        "id": "eP80PNuey1BI"
      },
      "outputs": [],
      "source": [
        "print(\"Lista original: \", my_list)\n",
        "\n",
        "top5 = my_list[0:5] # O step default é 1\n",
        "print(\"Primeiros 5 elementos da lista: \", top5)\n",
        "\n",
        "odd_idx = my_list[1::2] # end index default é o último\n",
        "print(\"Elementos em índices ímpares: \", odd_idx)\n",
        "\n",
        "all_elements = my_list[::] \n",
        "print(\"Todos os elementos: \", all_elements)"
      ]
    },
    {
      "cell_type": "markdown",
      "metadata": {
        "id": "8dmR1myYy1BJ"
      },
      "source": [
        "#### Exercício 3.9 (SUA VEZ)\n",
        "Agora, tente utilizar um step negativo e cheque seus resultados!"
      ]
    },
    {
      "cell_type": "code",
      "execution_count": null,
      "metadata": {
        "id": "cpucbJg1y1BJ"
      },
      "outputs": [],
      "source": [
        "# Sua resposta aqui\n"
      ]
    },
    {
      "cell_type": "markdown",
      "metadata": {
        "id": "A4muP7X_y1BJ"
      },
      "source": [
        "#### Exercício 3.10 (SUA VEZ)\n",
        "Tente utilizar slicing com indexação negativa para pegar todos os elementos na ordem contrária da lista  ```my_list```, excluindo os elementos das pontas (i.e. 5 e 3). <br>\n",
        "Crie a lista ```inverted_list```, cujo conteúdo deve ficar parecido com isso: ```[1, 0, 2, 4, 8, 1, 7, 1]```"
      ]
    },
    {
      "cell_type": "code",
      "execution_count": null,
      "metadata": {
        "deletable": false,
        "exid": "3.10",
        "id": "6rgbg8zby1BJ"
      },
      "outputs": [],
      "source": [
        "# Sua resposta aqui\n"
      ]
    },
    {
      "cell_type": "markdown",
      "metadata": {
        "id": "Lxsfcb9Uy1BJ"
      },
      "source": [
        "#### 3.4.4. List comprehension\n",
        "Uma forma bastante útil e elegante de construir uma lista é apresentada a seguir. Pode ser muito útil quando você quer **criar uma lista a partir de uma lista já existente**. <br>\n",
        "Veja o exemplo abaixo e repare que **```range(10)```** cria uma lista de inteiros de 0 (incluído) a 10 (excluído)."
      ]
    },
    {
      "cell_type": "code",
      "execution_count": null,
      "metadata": {
        "id": "geTolEvby1BJ"
      },
      "outputs": [],
      "source": [
        "# Para cada elemento x no intervalo [0,10), faça 2^x\n",
        "pow2 = [2**x for x in range(10)]\n",
        "print(type(pow2))\n",
        "print(pow2)"
      ]
    },
    {
      "cell_type": "markdown",
      "metadata": {
        "id": "ZUB847chy1BJ"
      },
      "source": [
        "ou **a partir de**, digamos, **um dicionário**:"
      ]
    },
    {
      "cell_type": "code",
      "execution_count": null,
      "metadata": {
        "id": "XFI-rKrBy1BJ"
      },
      "outputs": [],
      "source": [
        "population = {'SP': 45538936, 'RJ': 17159960, 'MG': 21040662, 'BA': 14812617}\n",
        "\n",
        "pop_list = [population[key] for key in population.keys()]\n",
        "print(pop_list)"
      ]
    },
    {
      "cell_type": "markdown",
      "metadata": {
        "id": "EN9E2WBWy1BK"
      },
      "source": [
        "Existe também, o que chamamos de **dictionary comprehension**. Veja o exemplo a seguir."
      ]
    },
    {
      "cell_type": "code",
      "execution_count": null,
      "metadata": {
        "id": "vpwSfvP-y1BK"
      },
      "outputs": [],
      "source": [
        "# Para cada elemento x no intervalo [0,10), tome a x associada ao valor 2^x\n",
        "pow2_dict = {x: 2**x for x in range(10)}\n",
        "pow2_dict"
      ]
    }
  ],
  "metadata": {
    "colab": {
      "name": "CS_dia1.ipynb",
      "provenance": [],
      "collapsed_sections": [],
      "include_colab_link": true
    },
    "kernelspec": {
      "display_name": "Python 3",
      "language": "python",
      "name": "python3"
    },
    "language_info": {
      "codemirror_mode": {
        "name": "ipython",
        "version": 3
      },
      "file_extension": ".py",
      "mimetype": "text/x-python",
      "name": "python",
      "nbconvert_exporter": "python",
      "pygments_lexer": "ipython3",
      "version": "3.8.5"
    }
  },
  "nbformat": 4,
  "nbformat_minor": 0
}