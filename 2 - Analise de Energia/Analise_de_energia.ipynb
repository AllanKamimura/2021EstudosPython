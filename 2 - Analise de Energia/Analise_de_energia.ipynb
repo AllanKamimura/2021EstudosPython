{
  "nbformat": 4,
  "nbformat_minor": 0,
  "metadata": {
    "colab": {
      "name": "Analise de energia.ipynb",
      "provenance": [],
      "collapsed_sections": [
        "ARzWUjfslmE_"
      ]
    },
    "kernelspec": {
      "name": "python3",
      "display_name": "Python 3"
    },
    "language_info": {
      "name": "python"
    }
  },
  "cells": [
    {
      "cell_type": "code",
      "metadata": {
        "id": "2NPDT3gk6OIj"
      },
      "source": [
        "import pandas as pd\n",
        "import matplotlib.pyplot as plt\n",
        "import numpy as np\n",
        "\n",
        "from google_drive_downloader import GoogleDriveDownloader"
      ],
      "execution_count": null,
      "outputs": []
    },
    {
      "cell_type": "code",
      "metadata": {
        "id": "rV37yYei8XgI",
        "colab": {
          "base_uri": "https://localhost:8080/"
        },
        "outputId": "f7ca3042-7efc-45cc-df8c-33b24277f472"
      },
      "source": [
        "file_id = \"1A88x55wkVMTbGnDD__CzRXbvzMcfpRU_\"\n",
        "\n",
        "GoogleDriveDownloader.download_file_from_google_drive(\n",
        "    file_id = file_id,\n",
        "    dest_path = \"./consumo.zip\",\n",
        "    unzip = True\n",
        ")"
      ],
      "execution_count": null,
      "outputs": [
        {
          "output_type": "stream",
          "name": "stdout",
          "text": [
            "Downloading 1A88x55wkVMTbGnDD__CzRXbvzMcfpRU_ into ./consumo.zip... Done.\n",
            "Unzipping...Done.\n"
          ]
        }
      ]
    },
    {
      "cell_type": "markdown",
      "metadata": {
        "id": "0_rNconPlg64"
      },
      "source": [
        "# Usando o parse_date"
      ]
    },
    {
      "cell_type": "code",
      "metadata": {
        "colab": {
          "base_uri": "https://localhost:8080/",
          "height": 238
        },
        "id": "_FLTHvqa8mnb",
        "outputId": "735e7cd2-cffd-4cc6-c89a-435bb146d1d3"
      },
      "source": [
        "df = pd.read_csv(\"/content/AEP_hourly.csv\", parse_dates=[\"Datetime\"], index_col=[\"Datetime\"])\n",
        "df.head()"
      ],
      "execution_count": null,
      "outputs": [
        {
          "output_type": "execute_result",
          "data": {
            "text/html": [
              "<div>\n",
              "<style scoped>\n",
              "    .dataframe tbody tr th:only-of-type {\n",
              "        vertical-align: middle;\n",
              "    }\n",
              "\n",
              "    .dataframe tbody tr th {\n",
              "        vertical-align: top;\n",
              "    }\n",
              "\n",
              "    .dataframe thead th {\n",
              "        text-align: right;\n",
              "    }\n",
              "</style>\n",
              "<table border=\"1\" class=\"dataframe\">\n",
              "  <thead>\n",
              "    <tr style=\"text-align: right;\">\n",
              "      <th></th>\n",
              "      <th>AEP_MW</th>\n",
              "    </tr>\n",
              "    <tr>\n",
              "      <th>Datetime</th>\n",
              "      <th></th>\n",
              "    </tr>\n",
              "  </thead>\n",
              "  <tbody>\n",
              "    <tr>\n",
              "      <th>2004-12-31 01:00:00</th>\n",
              "      <td>13478.0</td>\n",
              "    </tr>\n",
              "    <tr>\n",
              "      <th>2004-12-31 02:00:00</th>\n",
              "      <td>12865.0</td>\n",
              "    </tr>\n",
              "    <tr>\n",
              "      <th>2004-12-31 03:00:00</th>\n",
              "      <td>12577.0</td>\n",
              "    </tr>\n",
              "    <tr>\n",
              "      <th>2004-12-31 04:00:00</th>\n",
              "      <td>12517.0</td>\n",
              "    </tr>\n",
              "    <tr>\n",
              "      <th>2004-12-31 05:00:00</th>\n",
              "      <td>12670.0</td>\n",
              "    </tr>\n",
              "  </tbody>\n",
              "</table>\n",
              "</div>"
            ],
            "text/plain": [
              "                      AEP_MW\n",
              "Datetime                    \n",
              "2004-12-31 01:00:00  13478.0\n",
              "2004-12-31 02:00:00  12865.0\n",
              "2004-12-31 03:00:00  12577.0\n",
              "2004-12-31 04:00:00  12517.0\n",
              "2004-12-31 05:00:00  12670.0"
            ]
          },
          "metadata": {},
          "execution_count": 3
        }
      ]
    },
    {
      "cell_type": "code",
      "metadata": {
        "colab": {
          "base_uri": "https://localhost:8080/"
        },
        "id": "gKJ9vjbkiaoP",
        "outputId": "940ec508-ecad-468f-d4bc-bfcd88ede6b4"
      },
      "source": [
        "df.info()"
      ],
      "execution_count": null,
      "outputs": [
        {
          "output_type": "stream",
          "name": "stdout",
          "text": [
            "<class 'pandas.core.frame.DataFrame'>\n",
            "DatetimeIndex: 121273 entries, 2004-12-31 01:00:00 to 2018-01-02 00:00:00\n",
            "Data columns (total 1 columns):\n",
            " #   Column  Non-Null Count   Dtype  \n",
            "---  ------  --------------   -----  \n",
            " 0   AEP_MW  121273 non-null  float64\n",
            "dtypes: float64(1)\n",
            "memory usage: 1.9 MB\n"
          ]
        }
      ]
    },
    {
      "cell_type": "code",
      "metadata": {
        "colab": {
          "base_uri": "https://localhost:8080/",
          "height": 295
        },
        "id": "9Jw1OqWJkDP-",
        "outputId": "de42a227-db16-464a-d49e-18b36ba27af6"
      },
      "source": [
        "df.loc[\"2005\"].plot()"
      ],
      "execution_count": null,
      "outputs": [
        {
          "output_type": "execute_result",
          "data": {
            "text/plain": [
              "<matplotlib.axes._subplots.AxesSubplot at 0x7fbe87364bd0>"
            ]
          },
          "metadata": {},
          "execution_count": 5
        },
        {
          "output_type": "display_data",
          "data": {
            "image/png": "[encoded data removed]",
            "text/plain": [
              "<Figure size 432x288 with 1 Axes>"
            ]
          },
          "metadata": {
            "needs_background": "light"
          }
        }
      ]
    },
    {
      "cell_type": "code",
      "metadata": {
        "colab": {
          "base_uri": "https://localhost:8080/",
          "height": 287
        },
        "id": "pBZJCXJKj773",
        "outputId": "9f07e432-01d8-4134-a9cb-244e7343470f"
      },
      "source": [
        "df[\"AEP_MW\"].plot()"
      ],
      "execution_count": null,
      "outputs": [
        {
          "output_type": "execute_result",
          "data": {
            "text/plain": [
              "<matplotlib.axes._subplots.AxesSubplot at 0x7fbe7fd1e710>"
            ]
          },
          "metadata": {},
          "execution_count": 6
        },
        {
          "output_type": "display_data",
          "data": {
            "image/png": "[encoded data removed]",
            "text/plain": [
              "<Figure size 432x288 with 1 Axes>"
            ]
          },
          "metadata": {
            "needs_background": "light"
          }
        }
      ]
    },
    {
      "cell_type": "code",
      "metadata": {
        "colab": {
          "base_uri": "https://localhost:8080/"
        },
        "id": "P22f5GWGkugi",
        "outputId": "0b057663-9e17-4687-96fc-a3cedf7fb21f"
      },
      "source": [
        "df.loc[\"2006\"].mean()"
      ],
      "execution_count": null,
      "outputs": [
        {
          "output_type": "execute_result",
          "data": {
            "text/plain": [
              "AEP_MW    15737.224252\n",
              "dtype: float64"
            ]
          },
          "metadata": {},
          "execution_count": 77
        }
      ]
    },
    {
      "cell_type": "markdown",
      "metadata": {
        "id": "4ka0DK7Mlbul"
      },
      "source": [
        "#Média móvel simples\n",
        "Janela de tamaho n"
      ]
    },
    {
      "cell_type": "code",
      "metadata": {
        "colab": {
          "base_uri": "https://localhost:8080/",
          "height": 238
        },
        "id": "9k1O37JYnJQp",
        "outputId": "83fbaf21-6b50-4060-ab23-dbb85ffffe8b"
      },
      "source": [
        "n=24    #tamanho da janela\n",
        "soma=0\n",
        "for i in range (0,df.shape[0]-2):\n",
        "    for j in range (0,n):\n",
        "        soma += np.round(df.iloc[j,0],1)\n",
        "    media = soma/n\n",
        "    df.loc[df.index[i-n+1],'SMA_3'] = media\n",
        "df.head()"
      ],
      "execution_count": null,
      "outputs": [
        {
          "output_type": "execute_result",
          "data": {
            "text/html": [
              "<div>\n",
              "<style scoped>\n",
              "    .dataframe tbody tr th:only-of-type {\n",
              "        vertical-align: middle;\n",
              "    }\n",
              "\n",
              "    .dataframe tbody tr th {\n",
              "        vertical-align: top;\n",
              "    }\n",
              "\n",
              "    .dataframe thead th {\n",
              "        text-align: right;\n",
              "    }\n",
              "</style>\n",
              "<table border=\"1\" class=\"dataframe\">\n",
              "  <thead>\n",
              "    <tr style=\"text-align: right;\">\n",
              "      <th></th>\n",
              "      <th>AEP_MW</th>\n",
              "      <th>SMA_3</th>\n",
              "    </tr>\n",
              "    <tr>\n",
              "      <th>Datetime</th>\n",
              "      <th></th>\n",
              "      <th></th>\n",
              "    </tr>\n",
              "  </thead>\n",
              "  <tbody>\n",
              "    <tr>\n",
              "      <th>2004-12-31 01:00:00</th>\n",
              "      <td>13478.0</td>\n",
              "      <td>337170.00</td>\n",
              "    </tr>\n",
              "    <tr>\n",
              "      <th>2004-12-31 02:00:00</th>\n",
              "      <td>12865.0</td>\n",
              "      <td>351218.75</td>\n",
              "    </tr>\n",
              "    <tr>\n",
              "      <th>2004-12-31 03:00:00</th>\n",
              "      <td>12577.0</td>\n",
              "      <td>365267.50</td>\n",
              "    </tr>\n",
              "    <tr>\n",
              "      <th>2004-12-31 04:00:00</th>\n",
              "      <td>12517.0</td>\n",
              "      <td>379316.25</td>\n",
              "    </tr>\n",
              "    <tr>\n",
              "      <th>2004-12-31 05:00:00</th>\n",
              "      <td>12670.0</td>\n",
              "      <td>393365.00</td>\n",
              "    </tr>\n",
              "  </tbody>\n",
              "</table>\n",
              "</div>"
            ],
            "text/plain": [
              "                      AEP_MW      SMA_3\n",
              "Datetime                               \n",
              "2004-12-31 01:00:00  13478.0  337170.00\n",
              "2004-12-31 02:00:00  12865.0  351218.75\n",
              "2004-12-31 03:00:00  12577.0  365267.50\n",
              "2004-12-31 04:00:00  12517.0  379316.25\n",
              "2004-12-31 05:00:00  12670.0  393365.00"
            ]
          },
          "metadata": {},
          "execution_count": 39
        }
      ]
    },
    {
      "cell_type": "code",
      "metadata": {
        "colab": {
          "base_uri": "https://localhost:8080/",
          "height": 298
        },
        "id": "fBAjfp5kztNs",
        "outputId": "5a96e996-968e-4afd-d537-7e19e4a91bc4"
      },
      "source": [
        "df[\"SMA_3\"].plot()"
      ],
      "execution_count": null,
      "outputs": [
        {
          "output_type": "execute_result",
          "data": {
            "text/plain": [
              "<matplotlib.axes._subplots.AxesSubplot at 0x7fbe7a90dc50>"
            ]
          },
          "metadata": {},
          "execution_count": 42
        },
        {
          "output_type": "display_data",
          "data": {
            "image/png": "[encoded data removed]",
            "text/plain": [
              "<Figure size 432x288 with 1 Axes>"
            ]
          },
          "metadata": {
            "needs_background": "light"
          }
        }
      ]
    }
  ]
}