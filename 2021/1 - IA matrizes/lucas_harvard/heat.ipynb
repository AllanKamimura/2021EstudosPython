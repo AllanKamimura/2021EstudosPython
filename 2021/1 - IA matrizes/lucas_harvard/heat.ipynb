{
  "nbformat": 4,
  "nbformat_minor": 2,
  "metadata": {
    "colab": {
      "name": "heat.ipynb",
      "provenance": [],
      "collapsed_sections": [
        "XBGUKjK3NMbv",
        "_nFoaP6ANTkT",
        "BmeJh55ZNXtL",
        "7S4kLx-FNfSs",
        "MKeJRMtpNsJS",
        "oUs_RcyKN4Mq"
      ]
    },
    "kernelspec": {
      "name": "python3",
      "display_name": "Python 3"
    },
    "language_info": {
      "name": "python"
    }
  },
  "cells": [
    {
      "cell_type": "markdown",
      "source": [
        "# Criação de um mapa de calor"
      ],
      "metadata": {
        "id": "XBGUKjK3NMbv"
      }
    },
    {
      "cell_type": "markdown",
      "source": [
        "## Imports"
      ],
      "metadata": {
        "id": "_nFoaP6ANTkT"
      }
    },
    {
      "cell_type": "code",
      "execution_count": 48,
      "source": [
        "import matplotlib.animation as animation\n",
        "import matplotlib.pyplot as plt\n",
        "import seaborn as sns\n",
        "import numpy as np\n",
        "import scipy"
      ],
      "outputs": [],
      "metadata": {
        "id": "-CDf3CxZNLbx"
      }
    },
    {
      "cell_type": "markdown",
      "source": [
        "## Inicialização"
      ],
      "metadata": {
        "id": "BmeJh55ZNXtL"
      }
    },
    {
      "cell_type": "code",
      "execution_count": 49,
      "source": [
        "xsize = ysize = 50\n",
        "temps = np.zeros((xsize, ysize))"
      ],
      "outputs": [],
      "metadata": {
        "id": "FuAhQTLRNcQO"
      }
    },
    {
      "cell_type": "markdown",
      "source": [
        "## Funções \"helpers\""
      ],
      "metadata": {
        "id": "7S4kLx-FNfSs"
      }
    },
    {
      "cell_type": "code",
      "execution_count": 50,
      "source": [
        "#função que coloca as temperaturas constantes nos locais corretos\n",
        "def set_source_sink():\n",
        "    #usa a variável temps global para essa função\n",
        "    global temps\n",
        "    \n",
        "\n",
        "    #cantos superior e esquerdo são frios\n",
        "    temps[0]    = -30\n",
        "    temps[:,0]  = -30\n",
        "\n",
        "    #cantos inferior e direito são quentes\n",
        "    temps[-1]   = 30\n",
        "    temps[:,-1] = 30\n",
        "\n",
        "    #no encontro dos cantos de duas temperaturas diferentes deixa zero para ser simétrico\n",
        "    temps[0,-1] = 0\n",
        "    temps[-1,0] = 0 \n",
        "\n",
        "    \n",
        "\n",
        "#função com o plot específico que deve ser criado,\n",
        "#separado de animate e anim_init pela quantidade de argumentos (que seriam repetidos nas duas funções)\n",
        "def create_heatmap(frame):\n",
        "    #usa a variável temps global para essa função\n",
        "    global temps\n",
        "\n",
        "    #cria o heatmap em si e depois adiciona um título\n",
        "    hmap = sns.heatmap(temps, cmap=\"coolwarm\", vmin=-30, vmax=30, xticklabels=False, yticklabels=False, \n",
        "                    center=0, square=True, cbar_kws={'label': 'Temperatura (°C)'})\n",
        "    \n",
        "    hmap.set_title(f\"temperatura no frame {frame}\")"
      ],
      "outputs": [],
      "metadata": {
        "id": "4Kep0GGtNmuF"
      }
    },
    {
      "cell_type": "markdown",
      "source": [
        "## Funções para animação"
      ],
      "metadata": {
        "id": "MKeJRMtpNsJS"
      }
    },
    {
      "cell_type": "code",
      "execution_count": 51,
      "source": [
        "#função de inicialização, vai rodar no primeiro frame\n",
        "def anim_init():\n",
        "    #coloca os valores inicias de temps\n",
        "    set_source_sink()\n",
        "\n",
        "    plt.clf()\n",
        "    #cria o primeiro frame\n",
        "    create_heatmap(0)\n",
        "    \n",
        "    \n",
        "#máscara dos pesos que coloca os vizinhos do pixel do meio (usado na função abaixo)\n",
        "mask = np.array([[0, 1, 0], [1, 0, 1], [0, 1, 0]])\n",
        "\n",
        "#função de animação, vai rodar a cada frame mudando a imagem \n",
        "def animate(frame):\n",
        "    #usa as variaveis temps e mask globais para essa função\n",
        "    global temps\n",
        "    global mask\n",
        "\n",
        "\n",
        "    #aplica um filtro na temperatura, ou seja, para cada pixel executa a função de média ponderada (que exclui zeros)\n",
        "    #do numpy com os pesos iguais a mask (o modo \"mirror\" diz sobre como a função deve ser aplicada nos cantos, o que é ignorado\n",
        "    #logo depois, mas esse seria o comportamento caso os cantos não fossem constantes)\n",
        "    #além disso, esse 0.75 representa a \"condutividade\" do material, completamente arbitrária\n",
        "    #isso faz a animação ter um efeito mais realista de aos poucos aumentar ou diminuir a temperatura\n",
        "    temps += 0.75 * (scipy.ndimage.generic_filter(temps, np.nanmean, footprint=mask, mode=\"mirror\") - temps)\n",
        "\n",
        "    #coloca os valores constantes da forma que se deve\n",
        "    #(não encontrei um argumento que fizesse a função de cima \"pular\" os cantos)\n",
        "    set_source_sink()\n",
        "\n",
        "\n",
        "    #limpa a figura do matplotlib\n",
        "    plt.clf()\n",
        "    #e desenha o array!\n",
        "    create_heatmap(frame)\n",
        "\n",
        "\n",
        "#função que cria a animação em si\n",
        "def create_heatmap_anim(name, fps, frames):\n",
        "    global temps\n",
        "    global xsize\n",
        "    global ysize\n",
        "\n",
        "    #reinicializa temps para caso essa função já tenha sido chamada\n",
        "    temps = np.zeros((xsize, ysize))\n",
        "\n",
        "    #\"figura\" que se refere à área de desenho do matplotlib\n",
        "    fig = plt.figure()\n",
        "    #cria a animação em si\n",
        "    anim = animation.FuncAnimation(fig, animate, init_func=anim_init, frames=frames)\n",
        "\n",
        "    #por algum motivo no colab tentar salvar como gif dá um erro estranho, então usa mp4 mesmo\n",
        "    anim.save(f\"{name}.mp4\", writer=\"ffmpeg\", fps=fps)\n",
        "\n",
        "    #e por último retorna a animação\n",
        "    return anim"
      ],
      "outputs": [],
      "metadata": {
        "id": "Hh4EkuR1NDaj"
      }
    },
    {
      "cell_type": "markdown",
      "source": [
        "## Fazendo tudo acontecer!"
      ],
      "metadata": {
        "id": "oUs_RcyKN4Mq"
      }
    },
    {
      "cell_type": "code",
      "execution_count": 52,
      "source": [
        "anim = create_heatmap_anim(\"heatmap\", 60, 600)"
      ],
      "outputs": [
        {
          "output_type": "display_data",
          "data": {
            "text/plain": [
              "<Figure size 432x288 with 2 Axes>"
            ],
            "image/png": "[encoded data removed]"
          },
          "metadata": {
            "tags": [],
            "needs_background": "light"
          }
        }
      ],
      "metadata": {
        "colab": {
          "base_uri": "https://localhost:8080/",
          "height": 270
        },
        "id": "4jRTuogzN7D3",
        "outputId": "33eb9105-c58d-4c85-edf1-7b4866a52120"
      }
    }
  ]
}